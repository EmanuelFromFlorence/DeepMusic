{
 "cells": [
  {
   "cell_type": "code",
   "execution_count": 1,
   "id": "several-initial",
   "metadata": {},
   "outputs": [],
   "source": [
    "from miditoolkit.midi.parser import MidiFile\n",
    "import numpy as np\n",
    "from importlib import reload\n",
    "import matplotlib.pyplot as plt"
   ]
  },
  {
   "cell_type": "code",
   "execution_count": 2,
   "id": "separated-morrison",
   "metadata": {},
   "outputs": [],
   "source": [
    "from deepmusic import MusicRepr, Constants"
   ]
  },
  {
   "cell_type": "markdown",
   "id": "accessible-emphasis",
   "metadata": {},
   "source": [
    "## constants"
   ]
  },
  {
   "cell_type": "code",
   "execution_count": 3,
   "id": "eleven-patent",
   "metadata": {},
   "outputs": [
    {
     "data": {
      "text/plain": [
       "Constants(unit=4, tick_resol=120, min_tempo=40, max_tempo=200, num_tempo_bins=20, num_velocity_bins=20)"
      ]
     },
     "execution_count": 3,
     "metadata": {},
     "output_type": "execute_result"
    }
   ],
   "source": [
    "const = Constants(\n",
    "    unit=4,\n",
    "    min_tempo=40,\n",
    "    max_tempo=200,\n",
    "    num_tempo_bins=20, \n",
    "    num_velocity_bins=20\n",
    ")\n",
    "const"
   ]
  },
  {
   "cell_type": "markdown",
   "id": "hearing-subject",
   "metadata": {},
   "source": [
    "## midi representation"
   ]
  },
  {
   "cell_type": "code",
   "execution_count": 16,
   "id": "beginning-tragedy",
   "metadata": {},
   "outputs": [
    {
     "data": {
      "text/plain": [
       "MusicRepr(\n",
       " num_events=4307,\n",
       " const=Constants(unit=4, tick_resol=120, min_tempo=40, max_tempo=200, num_tempo_bins=20, num_velocity_bins=20)\n",
       ")"
      ]
     },
     "execution_count": 16,
     "metadata": {},
     "output_type": "execute_result"
    }
   ],
   "source": [
    "seq = MusicRepr.from_file(\n",
    "    'assets/test.mid', \n",
    "    unit=4,\n",
    "    min_tempo=40,\n",
    "    max_tempo=200,\n",
    "    num_tempo_bins=20, \n",
    "    num_velocity_bins=20\n",
    ")\n",
    "\n",
    "# seq = MusicRepr.from_file('assets/test.mid', const=const)\n",
    "seq"
   ]
  },
  {
   "cell_type": "code",
   "execution_count": 17,
   "id": "cardiovascular-notebook",
   "metadata": {},
   "outputs": [
    {
     "data": {
      "text/plain": [
       "True"
      ]
     },
     "execution_count": 17,
     "metadata": {},
     "output_type": "execute_result"
    }
   ],
   "source": [
    "seq.const == const"
   ]
  },
  {
   "cell_type": "markdown",
   "id": "supposed-herald",
   "metadata": {},
   "source": [
    "### splitting bars"
   ]
  },
  {
   "cell_type": "code",
   "execution_count": 10,
   "id": "balanced-exposure",
   "metadata": {},
   "outputs": [
    {
     "data": {
      "text/plain": [
       "76"
      ]
     },
     "execution_count": 10,
     "metadata": {},
     "output_type": "execute_result"
    }
   ],
   "source": [
    "seq.get_bar_count()"
   ]
  },
  {
   "cell_type": "code",
   "execution_count": 24,
   "id": "extra-attitude",
   "metadata": {
    "scrolled": true
   },
   "outputs": [
    {
     "data": {
      "text/plain": [
       "76"
      ]
     },
     "execution_count": 24,
     "metadata": {},
     "output_type": "execute_result"
    }
   ],
   "source": [
    "bars = seq.get_bars()\n",
    "len(bars)"
   ]
  },
  {
   "cell_type": "markdown",
   "id": "centered-memphis",
   "metadata": {},
   "source": [
    "## concatenating bars"
   ]
  },
  {
   "cell_type": "code",
   "execution_count": 12,
   "id": "middle-wiring",
   "metadata": {},
   "outputs": [
    {
     "data": {
      "text/plain": [
       "2"
      ]
     },
     "execution_count": 12,
     "metadata": {},
     "output_type": "execute_result"
    }
   ],
   "source": [
    "seq2 = MusicRepr.concatenate(bars[:2])\n",
    "seq2.get_bar_count()"
   ]
  },
  {
   "cell_type": "markdown",
   "id": "narrow-catalog",
   "metadata": {},
   "source": [
    "## Slicing"
   ]
  },
  {
   "cell_type": "markdown",
   "id": "handed-mouse",
   "metadata": {},
   "source": [
    "### bar index"
   ]
  },
  {
   "cell_type": "code",
   "execution_count": 13,
   "id": "considered-athens",
   "metadata": {
    "scrolled": true
   },
   "outputs": [
    {
     "name": "stdout",
     "output_type": "stream",
     "text": [
      "True True\n"
     ]
    }
   ],
   "source": [
    "seq2 = seq.slice_by_bar(1,2)\n",
    "print(seq2.events == bars[1].events, seq2 == bars[1])"
   ]
  },
  {
   "cell_type": "markdown",
   "id": "thick-removal",
   "metadata": {},
   "source": [
    "### beat index"
   ]
  },
  {
   "cell_type": "code",
   "execution_count": 14,
   "id": "latter-peninsula",
   "metadata": {
    "scrolled": true
   },
   "outputs": [
    {
     "name": "stdout",
     "output_type": "stream",
     "text": [
      "True True\n"
     ]
    }
   ],
   "source": [
    "seq2 = seq.slice_by_beat(12, 16)\n",
    "print(seq2.events == bars[3].events, seq2 == bars[3])"
   ]
  },
  {
   "cell_type": "markdown",
   "id": "therapeutic-edinburgh",
   "metadata": {},
   "source": [
    "### event index"
   ]
  },
  {
   "cell_type": "code",
   "execution_count": 15,
   "id": "requested-background",
   "metadata": {},
   "outputs": [
    {
     "data": {
      "text/plain": [
       "[Bar(position=0, tempo=124),\n",
       " Beat(position=9, tempo=98),\n",
       " Bar(position=0),\n",
       " Beat(position=4),\n",
       " Note(inst_family=piano, pitch=64, duration=1, velocity=107),\n",
       " Beat(position=5),\n",
       " Note(inst_family=piano, pitch=65, duration=1, velocity=87),\n",
       " Beat(position=7),\n",
       " Note(inst_family=piano, pitch=67, duration=3, velocity=87),\n",
       " Beat(position=11)]"
      ]
     },
     "execution_count": 15,
     "metadata": {},
     "output_type": "execute_result"
    }
   ],
   "source": [
    "seq2 = seq.slice_by_index(0,10)\n",
    "seq2[:]"
   ]
  },
  {
   "cell_type": "markdown",
   "id": "korean-evaluation",
   "metadata": {},
   "source": [
    "## separating different instrument tracks"
   ]
  },
  {
   "cell_type": "code",
   "execution_count": 42,
   "id": "productive-shower",
   "metadata": {},
   "outputs": [
    {
     "data": {
      "text/plain": [
       "(['bass', 'ensemble', 'drums', 'piano', 'guitar'],\n",
       " ['bass', 'ensemble', 'drums', 'piano', 'guitar'])"
      ]
     },
     "execution_count": 42,
     "metadata": {},
     "output_type": "execute_result"
    }
   ],
   "source": [
    "tracks = seq.separate_tracks()\n",
    "list(tracks.keys()), seq.get_instruments()"
   ]
  },
  {
   "cell_type": "code",
   "execution_count": 43,
   "id": "falling-pearl",
   "metadata": {},
   "outputs": [
    {
     "name": "stdout",
     "output_type": "stream",
     "text": [
      "76\n",
      "76\n",
      "76\n",
      "76\n",
      "76\n"
     ]
    }
   ],
   "source": [
    "for inst in tracks:\n",
    "    print(tracks[inst].get_bar_count())"
   ]
  },
  {
   "cell_type": "code",
   "execution_count": 45,
   "id": "proud-pension",
   "metadata": {},
   "outputs": [
    {
     "data": {
      "text/plain": [
       "[Bar(position=0, tempo=124),\n",
       " Beat(position=9, tempo=98),\n",
       " Bar(position=0),\n",
       " Beat(position=4),\n",
       " Note(inst_family=piano, pitch=64, duration=1, velocity=107),\n",
       " Beat(position=5),\n",
       " Note(inst_family=piano, pitch=65, duration=1, velocity=87),\n",
       " Beat(position=7),\n",
       " Note(inst_family=piano, pitch=67, duration=3, velocity=87),\n",
       " Beat(position=11)]"
      ]
     },
     "execution_count": 45,
     "metadata": {},
     "output_type": "execute_result"
    }
   ],
   "source": [
    "tracks['piano'][:10]"
   ]
  },
  {
   "cell_type": "markdown",
   "id": "literary-oracle",
   "metadata": {},
   "source": [
    "### remove instruments"
   ]
  },
  {
   "cell_type": "code",
   "execution_count": 19,
   "id": "indonesian-store",
   "metadata": {},
   "outputs": [
    {
     "data": {
      "text/plain": [
       "['bass', 'guitar', 'piano', 'ensemble']"
      ]
     },
     "execution_count": 19,
     "metadata": {},
     "output_type": "execute_result"
    }
   ],
   "source": [
    "seq_t = seq.remove_instruments(instruments_to_remove=['drums'])\n",
    "seq_t.get_instruments()"
   ]
  },
  {
   "cell_type": "markdown",
   "id": "outdoor-celebrity",
   "metadata": {},
   "source": [
    "### keep instruments"
   ]
  },
  {
   "cell_type": "code",
   "execution_count": 20,
   "id": "italic-webster",
   "metadata": {},
   "outputs": [
    {
     "data": {
      "text/plain": [
       "['drums']"
      ]
     },
     "execution_count": 20,
     "metadata": {},
     "output_type": "execute_result"
    }
   ],
   "source": [
    "seq_t = seq.keep_instruments(instruments_to_keep=['drums'])\n",
    "seq_t.get_instruments()"
   ]
  },
  {
   "cell_type": "markdown",
   "id": "improved-illustration",
   "metadata": {},
   "source": [
    "## exporting"
   ]
  },
  {
   "cell_type": "markdown",
   "id": "funded-fight",
   "metadata": {},
   "source": [
    "### pianoroll"
   ]
  },
  {
   "cell_type": "code",
   "execution_count": 55,
   "id": "incorporate-given",
   "metadata": {},
   "outputs": [
    {
     "name": "stdout",
     "output_type": "stream",
     "text": [
      "(128, 1216)\n"
     ]
    },
    {
     "data": {
      "image/png": "[encoded data removed]",
      "text/plain": [
       "<Figure size 1440x720 with 1 Axes>"
      ]
     },
     "metadata": {
      "needs_background": "light"
     },
     "output_type": "display_data"
    }
   ],
   "source": [
    "pianoroll = seq.to_pianoroll(separate_tracks=False, binarize=True, add_tempo_chord=False)\n",
    "print(pianoroll.shape)\n",
    "plt.figure(figsize=(20,10))\n",
    "plt.imshow(pianoroll)\n",
    "plt.show()"
   ]
  },
  {
   "cell_type": "code",
   "execution_count": 6,
   "id": "stone-counter",
   "metadata": {},
   "outputs": [
    {
     "data": {
      "image/png": "[encoded data removed]",
      "text/plain": [
       "<Figure size 1440x1080 with 5 Axes>"
      ]
     },
     "metadata": {
      "needs_background": "light"
     },
     "output_type": "display_data"
    }
   ],
   "source": [
    "pianorolls = seq.to_pianoroll(separate_tracks=True, add_tempo_chord=True, binarize=False)\n",
    "plt.figure(figsize=(20, len(pianorolls)*3))\n",
    "for i, inst in enumerate(pianorolls):\n",
    "    plt.subplot(len(pianorolls), 1, i+1)\n",
    "    plt.title(inst)\n",
    "    plt.imshow(pianorolls[inst])\n",
    "plt.show()"
   ]
  },
  {
   "cell_type": "markdown",
   "id": "duplicate-girlfriend",
   "metadata": {},
   "source": [
    "### midi"
   ]
  },
  {
   "cell_type": "code",
   "execution_count": 23,
   "id": "reserved-article",
   "metadata": {},
   "outputs": [
    {
     "data": {
      "text/plain": [
       "ticks per beat: 120\n",
       "max tick: 36390\n",
       "tempo changes: 2\n",
       "time sig: 1\n",
       "key sig: 0\n",
       "markers: 70\n",
       "lyrics: False\n",
       "instruments: 5"
      ]
     },
     "execution_count": 23,
     "metadata": {},
     "output_type": "execute_result"
    }
   ],
   "source": [
    "midi = seq.to_midi('examples/assets/rec_test.mid')\n",
    "midi"
   ]
  },
  {
   "cell_type": "markdown",
   "id": "solid-borough",
   "metadata": {},
   "source": [
    "### remi"
   ]
  },
  {
   "cell_type": "code",
   "execution_count": 18,
   "id": "broad-transmission",
   "metadata": {},
   "outputs": [
    {
     "data": {
      "text/plain": [
       "['Bar',\n",
       " 'BeatTempo_124',\n",
       " 'BeatPosition_9',\n",
       " 'BeatTempo_98',\n",
       " 'Bar',\n",
       " 'BeatPosition_4',\n",
       " 'NoteInstFamily_piano',\n",
       " 'NotePitch_64',\n",
       " 'NoteDuration_1',\n",
       " 'NoteVelocity_107']"
      ]
     },
     "execution_count": 18,
     "metadata": {},
     "output_type": "execute_result"
    }
   ],
   "source": [
    "remi = seq.to_remi(ret='token')\n",
    "remi[:10]"
   ]
  },
  {
   "cell_type": "code",
   "execution_count": 19,
   "id": "radio-skating",
   "metadata": {},
   "outputs": [
    {
     "data": {
      "text/plain": [
       "[Event(type=Bar),\n",
       " Event(type=BeatTempo, value=124),\n",
       " Event(type=BeatPosition, value=9),\n",
       " Event(type=BeatTempo, value=98),\n",
       " Event(type=Bar),\n",
       " Event(type=BeatPosition, value=4),\n",
       " Event(type=NoteInstFamily, value=piano),\n",
       " Event(type=NotePitch, value=64),\n",
       " Event(type=NoteDuration, value=1),\n",
       " Event(type=NoteVelocity, value=107)]"
      ]
     },
     "execution_count": 19,
     "metadata": {},
     "output_type": "execute_result"
    }
   ],
   "source": [
    "seq.to_remi(ret='event')[:10]"
   ]
  },
  {
   "cell_type": "code",
   "execution_count": 20,
   "id": "handmade-appendix",
   "metadata": {},
   "outputs": [
    {
     "data": {
      "text/plain": [
       "[0, 27, 10, 24, 0, 5, 169, 250, 314, 346]"
      ]
     },
     "execution_count": 20,
     "metadata": {},
     "output_type": "execute_result"
    }
   ],
   "source": [
    "seq.to_remi(ret='index', add_eos=True)[:10]"
   ]
  },
  {
   "cell_type": "markdown",
   "id": "finished-weather",
   "metadata": {},
   "source": [
    "### compound word"
   ]
  },
  {
   "cell_type": "code",
   "execution_count": 21,
   "id": "rolled-horse",
   "metadata": {},
   "outputs": [
    {
     "data": {
      "text/plain": [
       "((4308, 8), 4307)"
      ]
     },
     "execution_count": 21,
     "metadata": {},
     "output_type": "execute_result"
    }
   ],
   "source": [
    "cp = seq.to_cp(add_eos=True)\n",
    "cp.shape, len(seq)"
   ]
  },
  {
   "cell_type": "code",
   "execution_count": 22,
   "id": "united-jamaica",
   "metadata": {},
   "outputs": [
    {
     "data": {
      "text/plain": [
       "array([[ 0,  0, 11,  0,  0,  0,  0,  0],\n",
       "       [ 0,  9,  8,  0,  0,  0,  0,  0],\n",
       "       [ 0,  0,  0,  0,  0,  0,  0,  0],\n",
       "       [ 0,  4,  0,  0,  0,  0,  0,  0],\n",
       "       [ 1,  0,  0,  0,  0, 64,  0, 16],\n",
       "       [ 0,  5,  0,  0,  0,  0,  0,  0],\n",
       "       [ 1,  0,  0,  0,  0, 65,  0, 13],\n",
       "       [ 0,  7,  0,  0,  0,  0,  0,  0],\n",
       "       [ 1,  0,  0,  0,  0, 67,  2, 13],\n",
       "       [ 0, 11,  0,  0,  0,  0,  0,  0]])"
      ]
     },
     "execution_count": 22,
     "metadata": {},
     "output_type": "execute_result"
    }
   ],
   "source": [
    "cp[:10]"
   ]
  },
  {
   "cell_type": "code",
   "execution_count": 25,
   "id": "minor-whole",
   "metadata": {},
   "outputs": [
    {
     "data": {
      "text/plain": [
       "array([[ 0,  0, 11,  0,  0,  0,  0,  0],\n",
       "       [ 0,  9,  8,  0,  0,  0,  0,  0]])"
      ]
     },
     "execution_count": 25,
     "metadata": {},
     "output_type": "execute_result"
    }
   ],
   "source": [
    "bars[0].to_cp()"
   ]
  },
  {
   "cell_type": "markdown",
   "id": "architectural-version",
   "metadata": {},
   "source": [
    "## Importing"
   ]
  },
  {
   "cell_type": "markdown",
   "id": "aboriginal-rainbow",
   "metadata": {},
   "source": [
    "### from pianoroll"
   ]
  },
  {
   "cell_type": "code",
   "execution_count": 27,
   "id": "inclusive-appeal",
   "metadata": {},
   "outputs": [],
   "source": [
    "pianorolls = seq.to_pianoroll(separate_tracks=True, add_tempo_chord=True, binarize=False)\n",
    "pianoroll_tracks = dict([\n",
    "    (inst, MusicRepr.from_single_pianoroll(pianorolls[inst], inst=inst, const=const)) \n",
    "    for inst in pianorolls\n",
    "])\n",
    "\n",
    "seq_t = MusicRepr.merge_tracks(pianoroll_tracks)"
   ]
  },
  {
   "cell_type": "code",
   "execution_count": 29,
   "id": "governmental-jimmy",
   "metadata": {},
   "outputs": [
    {
     "data": {
      "text/plain": [
       "[Bar(position=0, tempo=124),\n",
       " Beat(position=9, tempo=98),\n",
       " Bar(position=0),\n",
       " Beat(position=4),\n",
       " Note(inst_family=piano, pitch=64, duration=1, velocity=107),\n",
       " Beat(position=5),\n",
       " Note(inst_family=piano, pitch=65, duration=1, velocity=87),\n",
       " Beat(position=7),\n",
       " Note(inst_family=piano, pitch=67, duration=3, velocity=87),\n",
       " Beat(position=11),\n",
       " Note(inst_family=piano, pitch=64, duration=3, velocity=73),\n",
       " Beat(position=13),\n",
       " Note(inst_family=piano, pitch=65, duration=1, velocity=80),\n",
       " Beat(position=14),\n",
       " Note(inst_family=piano, pitch=64, duration=1, velocity=93),\n",
       " Bar(position=0, chord=G_M7),\n",
       " Note(inst_family=drums, pitch=35, duration=1, velocity=67),\n",
       " Note(inst_family=drums, pitch=42, duration=1, velocity=67),\n",
       " Note(inst_family=bass, pitch=43, duration=8, velocity=73),\n",
       " Note(inst_family=piano, pitch=43, duration=1, velocity=67)]"
      ]
     },
     "execution_count": 29,
     "metadata": {},
     "output_type": "execute_result"
    }
   ],
   "source": [
    "seq_t[:20]"
   ]
  },
  {
   "cell_type": "code",
   "execution_count": 30,
   "id": "charged-schedule",
   "metadata": {},
   "outputs": [
    {
     "data": {
      "text/plain": [
       "True"
      ]
     },
     "execution_count": 30,
     "metadata": {},
     "output_type": "execute_result"
    }
   ],
   "source": [
    "seq_t.get_bar_count() == seq.get_bar_count()"
   ]
  },
  {
   "cell_type": "markdown",
   "id": "ethical-restoration",
   "metadata": {},
   "source": [
    "### from cp"
   ]
  },
  {
   "cell_type": "code",
   "execution_count": 31,
   "id": "younger-details",
   "metadata": {},
   "outputs": [
    {
     "data": {
      "text/plain": [
       "(True, True)"
      ]
     },
     "execution_count": 31,
     "metadata": {},
     "output_type": "execute_result"
    }
   ],
   "source": [
    "seq_t = MusicRepr.from_cp(cp, const=seq.const)\n",
    "seq_t.events == seq.events, seq == seq_t"
   ]
  },
  {
   "cell_type": "markdown",
   "id": "damaged-thing",
   "metadata": {},
   "source": [
    "### from remi"
   ]
  },
  {
   "cell_type": "code",
   "execution_count": 32,
   "id": "underlying-retailer",
   "metadata": {},
   "outputs": [
    {
     "data": {
      "text/plain": [
       "(True, True)"
      ]
     },
     "execution_count": 32,
     "metadata": {},
     "output_type": "execute_result"
    }
   ],
   "source": [
    "seq_t = MusicRepr.from_string(' '.join(remi), const=seq.const)\n",
    "seq_t.events == seq.events, seq == seq_t"
   ]
  },
  {
   "cell_type": "markdown",
   "id": "rough-marina",
   "metadata": {},
   "source": [
    "## merging tracks"
   ]
  },
  {
   "cell_type": "code",
   "execution_count": 33,
   "id": "peripheral-seafood",
   "metadata": {},
   "outputs": [],
   "source": [
    "tracks = seq.separate_tracks()"
   ]
  },
  {
   "cell_type": "code",
   "execution_count": 34,
   "id": "sonic-season",
   "metadata": {},
   "outputs": [
    {
     "data": {
      "text/plain": [
       "True"
      ]
     },
     "execution_count": 34,
     "metadata": {},
     "output_type": "execute_result"
    }
   ],
   "source": [
    "seq_t = MusicRepr.merge_tracks(tracks)\n",
    "seq == seq_t"
   ]
  },
  {
   "cell_type": "code",
   "execution_count": null,
   "id": "impaired-mechanics",
   "metadata": {},
   "outputs": [],
   "source": []
  }
 ],
 "metadata": {
  "kernelspec": {
   "display_name": "Python 3",
   "language": "python",
   "name": "python3"
  },
  "language_info": {
   "codemirror_mode": {
    "name": "ipython",
    "version": 3
   },
   "file_extension": ".py",
   "mimetype": "text/x-python",
   "name": "python",
   "nbconvert_exporter": "python",
   "pygments_lexer": "ipython3",
   "version": "3.7.4"
  }
 },
 "nbformat": 4,
 "nbformat_minor": 5
}
