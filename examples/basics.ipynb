{
 "cells": [
  {
   "cell_type": "code",
   "execution_count": 1,
   "id": "several-initial",
   "metadata": {},
   "outputs": [],
   "source": [
    "from miditoolkit.midi.parser import MidiFile\n",
    "\n",
    "from deepnote import MusicRepr, Constants, Metric, Note, utils"
   ]
  },
  {
   "cell_type": "markdown",
   "id": "accessible-emphasis",
   "metadata": {},
   "source": [
    "## constants"
   ]
  },
  {
   "cell_type": "code",
   "execution_count": 2,
   "id": "eleven-patent",
   "metadata": {},
   "outputs": [
    {
     "data": {
      "text/plain": [
       "Constants(unit=4, tick_resol=120, min_tempo=30, max_tempo=300, num_tempo_bins=30, num_velocity_bins=30)"
      ]
     },
     "execution_count": 2,
     "metadata": {},
     "output_type": "execute_result"
    }
   ],
   "source": [
    "const = Constants(\n",
    "    unit=4,\n",
    "    min_tempo=30,\n",
    "    max_tempo=300,\n",
    "    num_tempo_bins=30, \n",
    "    num_velocity_bins=30\n",
    ")\n",
    "const"
   ]
  },
  {
   "cell_type": "markdown",
   "id": "hearing-subject",
   "metadata": {},
   "source": [
    "## midi representation"
   ]
  },
  {
   "cell_type": "code",
   "execution_count": 3,
   "id": "beginning-tragedy",
   "metadata": {},
   "outputs": [
    {
     "data": {
      "text/plain": [
       "MusicRepr(\n",
       " num_events=4307,\n",
       " const=Constants(unit=4, tick_resol=120, min_tempo=30, max_tempo=300, num_tempo_bins=30, num_velocity_bins=30)\n",
       ")"
      ]
     },
     "execution_count": 3,
     "metadata": {},
     "output_type": "execute_result"
    }
   ],
   "source": [
    "# seq = MusicRepr.from_file(\n",
    "#     '../test-1.mid', \n",
    "#     unit=4,\n",
    "#     min_tempo=30,\n",
    "#     max_tempo=300,\n",
    "#     num_tempo_bins=30, \n",
    "#     num_velocity_bins=30\n",
    "# )\n",
    "seq = MusicRepr.from_file('assets/test.mid', const=const)\n",
    "seq"
   ]
  },
  {
   "cell_type": "code",
   "execution_count": 4,
   "id": "cardiovascular-notebook",
   "metadata": {},
   "outputs": [
    {
     "data": {
      "text/plain": [
       "Constants(unit=4, tick_resol=120, min_tempo=30, max_tempo=300, num_tempo_bins=30, num_velocity_bins=30)"
      ]
     },
     "execution_count": 4,
     "metadata": {},
     "output_type": "execute_result"
    }
   ],
   "source": [
    "seq.const"
   ]
  },
  {
   "cell_type": "code",
   "execution_count": 5,
   "id": "pacific-leadership",
   "metadata": {},
   "outputs": [
    {
     "data": {
      "text/plain": [
       "[Bar(position=0, tempo=123),\n",
       " Beat(position=9, tempo=104),\n",
       " Bar(position=0),\n",
       " Beat(position=4),\n",
       " Note(inst_family=piano, pitch=64, duration=1, velocity=105),\n",
       " Beat(position=5),\n",
       " Note(inst_family=piano, pitch=65, duration=1, velocity=87),\n",
       " Beat(position=7),\n",
       " Note(inst_family=piano, pitch=67, duration=3, velocity=87),\n",
       " Beat(position=11)]"
      ]
     },
     "execution_count": 5,
     "metadata": {},
     "output_type": "execute_result"
    }
   ],
   "source": [
    "seq[:10]"
   ]
  },
  {
   "cell_type": "markdown",
   "id": "supposed-herald",
   "metadata": {},
   "source": [
    "### splitting bars"
   ]
  },
  {
   "cell_type": "code",
   "execution_count": 6,
   "id": "balanced-exposure",
   "metadata": {},
   "outputs": [
    {
     "data": {
      "text/plain": [
       "76"
      ]
     },
     "execution_count": 6,
     "metadata": {},
     "output_type": "execute_result"
    }
   ],
   "source": [
    "seq.get_bar_count()"
   ]
  },
  {
   "cell_type": "code",
   "execution_count": 10,
   "id": "extra-attitude",
   "metadata": {
    "scrolled": true
   },
   "outputs": [
    {
     "data": {
      "text/plain": [
       "76"
      ]
     },
     "execution_count": 10,
     "metadata": {},
     "output_type": "execute_result"
    }
   ],
   "source": [
    "bars = seq.get_bars()\n",
    "len(bars)"
   ]
  },
  {
   "cell_type": "markdown",
   "id": "centered-memphis",
   "metadata": {},
   "source": [
    "## concatenating bars"
   ]
  },
  {
   "cell_type": "code",
   "execution_count": 9,
   "id": "middle-wiring",
   "metadata": {},
   "outputs": [
    {
     "data": {
      "text/plain": [
       "2"
      ]
     },
     "execution_count": 9,
     "metadata": {},
     "output_type": "execute_result"
    }
   ],
   "source": [
    "seq2 = MusicRepr.concatenate(bars[:2])\n",
    "seq2.get_bar_count()"
   ]
  },
  {
   "cell_type": "markdown",
   "id": "narrow-catalog",
   "metadata": {},
   "source": [
    "## Slicing"
   ]
  },
  {
   "cell_type": "markdown",
   "id": "handed-mouse",
   "metadata": {},
   "source": [
    "### bar index"
   ]
  },
  {
   "cell_type": "code",
   "execution_count": 11,
   "id": "considered-athens",
   "metadata": {
    "scrolled": true
   },
   "outputs": [
    {
     "name": "stdout",
     "output_type": "stream",
     "text": [
      "True True\n"
     ]
    }
   ],
   "source": [
    "seq2 = seq.slice_by_bar(1,2)\n",
    "print(seq2.events == bars[1].events, seq2 == bars[1])"
   ]
  },
  {
   "cell_type": "markdown",
   "id": "thick-removal",
   "metadata": {},
   "source": [
    "### beat index"
   ]
  },
  {
   "cell_type": "code",
   "execution_count": null,
   "id": "latter-peninsula",
   "metadata": {
    "scrolled": true
   },
   "outputs": [],
   "source": [
    "seq2 = seq.slice_by_beat(12, 16)\n",
    "print(seq2.events == bars[3].events, seq2 == bars[3])"
   ]
  },
  {
   "cell_type": "markdown",
   "id": "therapeutic-edinburgh",
   "metadata": {},
   "source": [
    "### event index"
   ]
  },
  {
   "cell_type": "code",
   "execution_count": 15,
   "id": "requested-background",
   "metadata": {},
   "outputs": [
    {
     "data": {
      "text/plain": [
       "[Bar(position=0, tempo=123),\n",
       " Beat(position=9, tempo=104),\n",
       " Bar(position=0),\n",
       " Beat(position=4),\n",
       " Note(inst_family=piano, pitch=64, duration=1, velocity=105),\n",
       " Beat(position=5),\n",
       " Note(inst_family=piano, pitch=65, duration=1, velocity=87),\n",
       " Beat(position=7),\n",
       " Note(inst_family=piano, pitch=67, duration=3, velocity=87),\n",
       " Beat(position=11)]"
      ]
     },
     "execution_count": 15,
     "metadata": {},
     "output_type": "execute_result"
    }
   ],
   "source": [
    "seq2 = seq.slice_by_index(0,10)\n",
    "seq2[:]"
   ]
  },
  {
   "cell_type": "markdown",
   "id": "korean-evaluation",
   "metadata": {},
   "source": [
    "## separating different instrument tracks"
   ]
  },
  {
   "cell_type": "code",
   "execution_count": 16,
   "id": "productive-shower",
   "metadata": {},
   "outputs": [
    {
     "data": {
      "text/plain": [
       "(['ensemble', 'piano', 'drums', 'bass', 'guitar'],\n",
       " ['ensemble', 'piano', 'drums', 'bass', 'guitar'])"
      ]
     },
     "execution_count": 16,
     "metadata": {},
     "output_type": "execute_result"
    }
   ],
   "source": [
    "tracks = seq.separate_tracks()\n",
    "list(tracks.keys()), seq.get_instruments()"
   ]
  },
  {
   "cell_type": "code",
   "execution_count": 17,
   "id": "falling-pearl",
   "metadata": {},
   "outputs": [
    {
     "name": "stdout",
     "output_type": "stream",
     "text": [
      "76\n",
      "76\n",
      "76\n",
      "76\n",
      "76\n"
     ]
    }
   ],
   "source": [
    "for inst in tracks:\n",
    "    print(tracks[inst].get_bar_count())"
   ]
  },
  {
   "cell_type": "code",
   "execution_count": 18,
   "id": "proud-pension",
   "metadata": {},
   "outputs": [
    {
     "data": {
      "text/plain": [
       "[Bar(position=0, tempo=123),\n",
       " Beat(position=9, tempo=104),\n",
       " Bar(position=0),\n",
       " Bar(position=0, chord=G_M7),\n",
       " Note(inst_family=bass, pitch=43, duration=8, velocity=74),\n",
       " Beat(position=8, chord=B_m),\n",
       " Note(inst_family=bass, pitch=50, duration=8, velocity=74),\n",
       " Bar(position=0, chord=G_M7),\n",
       " Note(inst_family=bass, pitch=43, duration=8, velocity=79),\n",
       " Beat(position=8, chord=G_7)]"
      ]
     },
     "execution_count": 18,
     "metadata": {},
     "output_type": "execute_result"
    }
   ],
   "source": [
    "tracks['bass'][:10]"
   ]
  },
  {
   "cell_type": "markdown",
   "id": "improved-illustration",
   "metadata": {},
   "source": [
    "## exporting"
   ]
  },
  {
   "cell_type": "markdown",
   "id": "duplicate-girlfriend",
   "metadata": {},
   "source": [
    "### midi"
   ]
  },
  {
   "cell_type": "code",
   "execution_count": 19,
   "id": "reserved-article",
   "metadata": {},
   "outputs": [
    {
     "data": {
      "text/plain": [
       "ticks per beat: 120\n",
       "max tick: 36390\n",
       "tempo changes: 2\n",
       "time sig: 1\n",
       "key sig: 0\n",
       "markers: 70\n",
       "lyrics: False\n",
       "instruments: 5"
      ]
     },
     "execution_count": 19,
     "metadata": {},
     "output_type": "execute_result"
    }
   ],
   "source": [
    "midi = seq.to_midi('assets/rec_test.mid')\n",
    "midi"
   ]
  },
  {
   "cell_type": "markdown",
   "id": "solid-borough",
   "metadata": {},
   "source": [
    "### remi"
   ]
  },
  {
   "cell_type": "code",
   "execution_count": 20,
   "id": "broad-transmission",
   "metadata": {},
   "outputs": [
    {
     "data": {
      "text/plain": [
       "['Bar',\n",
       " 'BeatTempo_123',\n",
       " 'BeatPosition_9',\n",
       " 'BeatTempo_104',\n",
       " 'Bar',\n",
       " 'BeatPosition_4',\n",
       " 'NoteInstFamily_piano',\n",
       " 'NotePitch_64',\n",
       " 'NoteDuration_1',\n",
       " 'NoteVelocity_105']"
      ]
     },
     "execution_count": 20,
     "metadata": {},
     "output_type": "execute_result"
    }
   ],
   "source": [
    "remi = seq.to_remi(ret='token')\n",
    "remi[:10]"
   ]
  },
  {
   "cell_type": "code",
   "execution_count": 21,
   "id": "radio-skating",
   "metadata": {},
   "outputs": [
    {
     "data": {
      "text/plain": [
       "[Event(type=Bar),\n",
       " Event(type=BeatTempo, value=123),\n",
       " Event(type=BeatPosition, value=9),\n",
       " Event(type=BeatTempo, value=104),\n",
       " Event(type=Bar),\n",
       " Event(type=BeatPosition, value=4),\n",
       " Event(type=NoteInstFamily, value=piano),\n",
       " Event(type=NotePitch, value=64),\n",
       " Event(type=NoteDuration, value=1),\n",
       " Event(type=NoteVelocity, value=105)]"
      ]
     },
     "execution_count": 21,
     "metadata": {},
     "output_type": "execute_result"
    }
   ],
   "source": [
    "seq.to_remi(ret='event')[:10]"
   ]
  },
  {
   "cell_type": "code",
   "execution_count": 22,
   "id": "handmade-appendix",
   "metadata": {},
   "outputs": [
    {
     "data": {
      "text/plain": [
       "[0, 28, 11, 26, 0, 6, 180, 261, 325, 365]"
      ]
     },
     "execution_count": 22,
     "metadata": {},
     "output_type": "execute_result"
    }
   ],
   "source": [
    "seq.to_remi(ret='index')[:10]"
   ]
  },
  {
   "cell_type": "markdown",
   "id": "finished-weather",
   "metadata": {},
   "source": [
    "### compound word"
   ]
  },
  {
   "cell_type": "code",
   "execution_count": 23,
   "id": "rolled-horse",
   "metadata": {},
   "outputs": [
    {
     "data": {
      "text/plain": [
       "((4307, 8), 4307)"
      ]
     },
     "execution_count": 23,
     "metadata": {},
     "output_type": "execute_result"
    }
   ],
   "source": [
    "cp = seq.to_cp()\n",
    "cp.shape, len(seq)"
   ]
  },
  {
   "cell_type": "code",
   "execution_count": 24,
   "id": "minor-whole",
   "metadata": {},
   "outputs": [
    {
     "data": {
      "text/plain": [
       "array([[ 0,  0, 11,  0,  0,  0,  0,  0],\n",
       "       [ 0,  9,  9,  0,  0,  0,  0,  0]])"
      ]
     },
     "execution_count": 24,
     "metadata": {},
     "output_type": "execute_result"
    }
   ],
   "source": [
    "bars[0].to_cp()"
   ]
  },
  {
   "cell_type": "markdown",
   "id": "architectural-version",
   "metadata": {},
   "source": [
    "## Importing"
   ]
  },
  {
   "cell_type": "markdown",
   "id": "ethical-restoration",
   "metadata": {},
   "source": [
    "### from cp"
   ]
  },
  {
   "cell_type": "code",
   "execution_count": 25,
   "id": "younger-details",
   "metadata": {},
   "outputs": [
    {
     "data": {
      "text/plain": [
       "(True, True)"
      ]
     },
     "execution_count": 25,
     "metadata": {},
     "output_type": "execute_result"
    }
   ],
   "source": [
    "seq_t = MusicRepr.from_cp(cp, const=seq.const)\n",
    "seq_t.events == seq.events, seq == seq_t"
   ]
  },
  {
   "cell_type": "markdown",
   "id": "damaged-thing",
   "metadata": {},
   "source": [
    "### from remi"
   ]
  },
  {
   "cell_type": "code",
   "execution_count": 27,
   "id": "supposed-completion",
   "metadata": {},
   "outputs": [
    {
     "data": {
      "text/plain": [
       "['Bar',\n",
       " 'BeatTempo_123',\n",
       " 'BeatPosition_9',\n",
       " 'BeatTempo_104',\n",
       " 'Bar',\n",
       " 'BeatPosition_4',\n",
       " 'NoteInstFamily_piano',\n",
       " 'NotePitch_64',\n",
       " 'NoteDuration_1',\n",
       " 'NoteVelocity_105',\n",
       " 'BeatPosition_5',\n",
       " 'NoteInstFamily_piano',\n",
       " 'NotePitch_65',\n",
       " 'NoteDuration_1',\n",
       " 'NoteVelocity_87',\n",
       " 'BeatPosition_7',\n",
       " 'NoteInstFamily_piano',\n",
       " 'NotePitch_67',\n",
       " 'NoteDuration_3',\n",
       " 'NoteVelocity_87',\n",
       " 'BeatPosition_11',\n",
       " 'NoteInstFamily_piano',\n",
       " 'NotePitch_64',\n",
       " 'NoteDuration_3',\n",
       " 'NoteVelocity_74',\n",
       " 'BeatPosition_13',\n",
       " 'NoteInstFamily_piano',\n",
       " 'NotePitch_65',\n",
       " 'NoteDuration_1',\n",
       " 'NoteVelocity_79',\n",
       " 'BeatPosition_14',\n",
       " 'NoteInstFamily_piano',\n",
       " 'NotePitch_64',\n",
       " 'NoteDuration_1',\n",
       " 'NoteVelocity_96',\n",
       " 'Bar',\n",
       " 'BeatChord_G_M7',\n",
       " 'NoteInstFamily_bass',\n",
       " 'NotePitch_43',\n",
       " 'NoteDuration_8',\n",
       " 'NoteVelocity_74',\n",
       " 'NoteInstFamily_piano',\n",
       " 'NotePitch_43',\n",
       " 'NoteDuration_1',\n",
       " 'NoteVelocity_66',\n",
       " 'NoteInstFamily_piano',\n",
       " 'NotePitch_64',\n",
       " 'NoteDuration_1',\n",
       " 'NoteVelocity_96',\n",
       " 'NoteInstFamily_drums',\n",
       " 'NotePitch_35',\n",
       " 'NoteDuration_1',\n",
       " 'NoteVelocity_70',\n",
       " 'NoteInstFamily_drums',\n",
       " 'NotePitch_42',\n",
       " 'NoteDuration_1',\n",
       " 'NoteVelocity_70',\n",
       " 'BeatPosition_1',\n",
       " 'NoteInstFamily_piano',\n",
       " 'NotePitch_65',\n",
       " 'NoteDuration_1',\n",
       " 'NoteVelocity_66',\n",
       " 'NoteInstFamily_piano',\n",
       " 'NotePitch_64',\n",
       " 'NoteDuration_1',\n",
       " 'NoteVelocity_66',\n",
       " 'BeatPosition_2',\n",
       " 'NoteInstFamily_piano',\n",
       " 'NotePitch_62',\n",
       " 'NoteDuration_1',\n",
       " 'NoteVelocity_70',\n",
       " 'NoteInstFamily_drums',\n",
       " 'NotePitch_42',\n",
       " 'NoteDuration_1',\n",
       " 'NoteVelocity_48',\n",
       " 'BeatPosition_4',\n",
       " 'NoteInstFamily_piano',\n",
       " 'NotePitch_50',\n",
       " 'NoteDuration_1',\n",
       " 'NoteVelocity_57',\n",
       " 'NoteInstFamily_piano',\n",
       " 'NotePitch_53',\n",
       " 'NoteDuration_1',\n",
       " 'NoteVelocity_70',\n",
       " 'NoteInstFamily_piano',\n",
       " 'NotePitch_55',\n",
       " 'NoteDuration_1',\n",
       " 'NoteVelocity_48',\n",
       " 'NoteInstFamily_piano',\n",
       " 'NotePitch_59',\n",
       " 'NoteDuration_1',\n",
       " 'NoteVelocity_61',\n",
       " 'NoteInstFamily_piano',\n",
       " 'NotePitch_74',\n",
       " 'NoteDuration_2',\n",
       " 'NoteVelocity_83',\n",
       " 'NoteInstFamily_piano',\n",
       " 'NotePitch_62',\n",
       " 'NoteDuration_1',\n",
       " 'NoteVelocity_83',\n",
       " 'NoteInstFamily_guitar',\n",
       " 'NotePitch_59',\n",
       " 'NoteDuration_1',\n",
       " 'NoteVelocity_66',\n",
       " 'NoteInstFamily_guitar',\n",
       " 'NotePitch_65',\n",
       " 'NoteDuration_1',\n",
       " 'NoteVelocity_66',\n",
       " 'NoteInstFamily_drums',\n",
       " 'NotePitch_37',\n",
       " 'NoteDuration_1',\n",
       " 'NoteVelocity_70',\n",
       " 'NoteInstFamily_drums',\n",
       " 'NotePitch_42',\n",
       " 'NoteDuration_1',\n",
       " 'NoteVelocity_70',\n",
       " 'BeatPosition_5',\n",
       " 'NoteInstFamily_piano',\n",
       " 'NotePitch_71',\n",
       " 'NoteDuration_1',\n",
       " 'NoteVelocity_44',\n",
       " 'BeatPosition_6',\n",
       " 'NoteInstFamily_piano',\n",
       " 'NotePitch_67',\n",
       " 'NoteDuration_1',\n",
       " 'NoteVelocity_31',\n",
       " 'NoteInstFamily_drums',\n",
       " 'NotePitch_35',\n",
       " 'NoteDuration_1',\n",
       " 'NoteVelocity_48',\n",
       " 'NoteInstFamily_drums',\n",
       " 'NotePitch_42',\n",
       " 'NoteDuration_1',\n",
       " 'NoteVelocity_48',\n",
       " 'BeatPosition_7',\n",
       " 'NoteInstFamily_piano',\n",
       " 'NotePitch_62',\n",
       " 'NoteDuration_14',\n",
       " 'NoteVelocity_83',\n",
       " 'BeatPosition_8',\n",
       " 'BeatChord_B_m',\n",
       " 'NoteInstFamily_bass',\n",
       " 'NotePitch_50',\n",
       " 'NoteDuration_8',\n",
       " 'NoteVelocity_74',\n",
       " 'NoteInstFamily_piano',\n",
       " 'NotePitch_38',\n",
       " 'NoteDuration_1',\n",
       " 'NoteVelocity_53',\n",
       " 'NoteInstFamily_piano',\n",
       " 'NotePitch_74',\n",
       " 'NoteDuration_2',\n",
       " 'NoteVelocity_70',\n",
       " 'NoteInstFamily_drums',\n",
       " 'NotePitch_35',\n",
       " 'NoteDuration_1',\n",
       " 'NoteVelocity_70',\n",
       " 'NoteInstFamily_drums',\n",
       " 'NotePitch_42',\n",
       " 'NoteDuration_1',\n",
       " 'NoteVelocity_70',\n",
       " 'BeatPosition_9',\n",
       " 'NoteInstFamily_piano',\n",
       " 'NotePitch_71',\n",
       " 'NoteDuration_1',\n",
       " 'NoteVelocity_57',\n",
       " 'BeatPosition_10',\n",
       " 'NoteInstFamily_piano',\n",
       " 'NotePitch_74',\n",
       " 'NoteDuration_9',\n",
       " 'NoteVelocity_61',\n",
       " 'NoteInstFamily_drums',\n",
       " 'NotePitch_42',\n",
       " 'NoteDuration_1',\n",
       " 'NoteVelocity_48',\n",
       " 'BeatPosition_12',\n",
       " 'NoteInstFamily_piano',\n",
       " 'NotePitch_53',\n",
       " 'NoteDuration_1',\n",
       " 'NoteVelocity_66',\n",
       " 'NoteInstFamily_piano',\n",
       " 'NotePitch_55',\n",
       " 'NoteDuration_1',\n",
       " 'NoteVelocity_40',\n",
       " 'NoteInstFamily_piano',\n",
       " 'NotePitch_59',\n",
       " 'NoteDuration_1',\n",
       " 'NoteVelocity_44',\n",
       " 'NoteInstFamily_piano',\n",
       " 'NotePitch_50',\n",
       " 'NoteDuration_1',\n",
       " 'NoteVelocity_40',\n",
       " 'NoteInstFamily_guitar',\n",
       " 'NotePitch_59',\n",
       " 'NoteDuration_1',\n",
       " 'NoteVelocity_66',\n",
       " 'NoteInstFamily_guitar',\n",
       " 'NotePitch_65',\n",
       " 'NoteDuration_1',\n",
       " 'NoteVelocity_66',\n",
       " 'NoteInstFamily_drums',\n",
       " 'NotePitch_37',\n",
       " 'NoteDuration_1',\n",
       " 'NoteVelocity_70',\n",
       " 'NoteInstFamily_drums',\n",
       " 'NotePitch_42',\n",
       " 'NoteDuration_1',\n",
       " 'NoteVelocity_70',\n",
       " 'BeatPosition_14',\n",
       " 'NoteInstFamily_drums',\n",
       " 'NotePitch_35',\n",
       " 'NoteDuration_1',\n",
       " 'NoteVelocity_48',\n",
       " 'NoteInstFamily_drums',\n",
       " 'NotePitch_42',\n",
       " 'NoteDuration_1',\n",
       " 'NoteVelocity_48',\n",
       " 'Bar',\n",
       " 'BeatChord_G_M7',\n",
       " 'NoteInstFamily_bass',\n",
       " 'NotePitch_43',\n",
       " 'NoteDuration_8',\n",
       " 'NoteVelocity_79',\n",
       " 'NoteInstFamily_piano',\n",
       " 'NotePitch_43',\n",
       " 'NoteDuration_1',\n",
       " 'NoteVelocity_66',\n",
       " 'NoteInstFamily_drums',\n",
       " 'NotePitch_35',\n",
       " 'NoteDuration_1',\n",
       " 'NoteVelocity_70',\n",
       " 'NoteInstFamily_drums',\n",
       " 'NotePitch_42',\n",
       " 'NoteDuration_1',\n",
       " 'NoteVelocity_70',\n",
       " 'BeatPosition_2',\n",
       " 'NoteInstFamily_piano',\n",
       " 'NotePitch_67',\n",
       " 'NoteDuration_1',\n",
       " 'NoteVelocity_44',\n",
       " 'NoteInstFamily_drums',\n",
       " 'NotePitch_42',\n",
       " 'NoteDuration_1',\n",
       " 'NoteVelocity_48',\n",
       " 'BeatPosition_4',\n",
       " 'NoteInstFamily_piano',\n",
       " 'NotePitch_50',\n",
       " 'NoteDuration_1',\n",
       " 'NoteVelocity_27',\n",
       " 'NoteInstFamily_piano',\n",
       " 'NotePitch_53',\n",
       " 'NoteDuration_1',\n",
       " 'NoteVelocity_61',\n",
       " 'NoteInstFamily_piano',\n",
       " 'NotePitch_55',\n",
       " 'NoteDuration_1',\n",
       " 'NoteVelocity_48',\n",
       " 'NoteInstFamily_piano',\n",
       " 'NotePitch_59',\n",
       " 'NoteDuration_1',\n",
       " 'NoteVelocity_57',\n",
       " 'NoteInstFamily_piano',\n",
       " 'NotePitch_74',\n",
       " 'NoteDuration_2',\n",
       " 'NoteVelocity_79',\n",
       " 'NoteInstFamily_guitar',\n",
       " 'NotePitch_59',\n",
       " 'NoteDuration_1',\n",
       " 'NoteVelocity_66',\n",
       " 'NoteInstFamily_guitar',\n",
       " 'NotePitch_65',\n",
       " 'NoteDuration_1',\n",
       " 'NoteVelocity_66',\n",
       " 'NoteInstFamily_drums',\n",
       " 'NotePitch_37',\n",
       " 'NoteDuration_1',\n",
       " 'NoteVelocity_70',\n",
       " 'NoteInstFamily_drums',\n",
       " 'NotePitch_42',\n",
       " 'NoteDuration_1',\n",
       " 'NoteVelocity_70',\n",
       " 'BeatPosition_5',\n",
       " 'NoteInstFamily_piano',\n",
       " 'NotePitch_71',\n",
       " 'NoteDuration_2',\n",
       " 'NoteVelocity_61',\n",
       " 'NoteInstFamily_piano',\n",
       " 'NotePitch_62',\n",
       " 'NoteDuration_1',\n",
       " 'NoteVelocity_100',\n",
       " 'BeatPosition_6',\n",
       " 'NoteInstFamily_piano',\n",
       " 'NotePitch_67',\n",
       " 'NoteDuration_1',\n",
       " 'NoteVelocity_31',\n",
       " 'NoteInstFamily_piano',\n",
       " 'NotePitch_64',\n",
       " 'NoteDuration_1',\n",
       " 'NoteVelocity_96',\n",
       " 'NoteInstFamily_drums',\n",
       " 'NotePitch_35',\n",
       " 'NoteDuration_1',\n",
       " 'NoteVelocity_48',\n",
       " 'NoteInstFamily_drums',\n",
       " 'NotePitch_42',\n",
       " 'NoteDuration_1',\n",
       " 'NoteVelocity_48',\n",
       " 'BeatPosition_8',\n",
       " 'BeatChord_G_7',\n",
       " 'NoteInstFamily_bass',\n",
       " 'NotePitch_50',\n",
       " 'NoteDuration_7',\n",
       " 'NoteVelocity_66',\n",
       " 'NoteInstFamily_piano',\n",
       " 'NotePitch_43',\n",
       " 'NoteDuration_1',\n",
       " 'NoteVelocity_70',\n",
       " 'NoteInstFamily_piano',\n",
       " 'NotePitch_79',\n",
       " 'NoteDuration_2',\n",
       " 'NoteVelocity_79',\n",
       " 'NoteInstFamily_piano',\n",
       " 'NotePitch_65',\n",
       " 'NoteDuration_2',\n",
       " 'NoteVelocity_92',\n",
       " 'NoteInstFamily_drums',\n",
       " 'NotePitch_35',\n",
       " 'NoteDuration_1',\n",
       " 'NoteVelocity_70',\n",
       " 'NoteInstFamily_drums',\n",
       " 'NotePitch_42',\n",
       " 'NoteDuration_1',\n",
       " 'NoteVelocity_70',\n",
       " 'BeatPosition_9',\n",
       " 'NoteInstFamily_piano',\n",
       " 'NotePitch_71',\n",
       " 'NoteDuration_1',\n",
       " 'NoteVelocity_79',\n",
       " 'BeatPosition_10',\n",
       " 'NoteInstFamily_piano',\n",
       " 'NotePitch_74',\n",
       " 'NoteDuration_5',\n",
       " 'NoteVelocity_79',\n",
       " 'NoteInstFamily_drums',\n",
       " 'NotePitch_42',\n",
       " 'NoteDuration_1',\n",
       " 'NoteVelocity_48',\n",
       " 'BeatPosition_11',\n",
       " 'NoteInstFamily_piano',\n",
       " 'NotePitch_67',\n",
       " 'NoteDuration_1',\n",
       " 'NoteVelocity_79',\n",
       " 'BeatPosition_12',\n",
       " 'NoteInstFamily_piano',\n",
       " 'NotePitch_50',\n",
       " 'NoteDuration_4',\n",
       " 'NoteVelocity_35',\n",
       " 'NoteInstFamily_piano',\n",
       " 'NotePitch_53',\n",
       " 'NoteDuration_4',\n",
       " 'NoteVelocity_61',\n",
       " 'NoteInstFamily_piano',\n",
       " 'NotePitch_55',\n",
       " 'NoteDuration_4',\n",
       " 'NoteVelocity_48',\n",
       " 'NoteInstFamily_piano',\n",
       " 'NotePitch_59',\n",
       " 'NoteDuration_4',\n",
       " 'NoteVelocity_57',\n",
       " 'NoteInstFamily_guitar',\n",
       " 'NotePitch_59',\n",
       " 'NoteDuration_1',\n",
       " 'NoteVelocity_66',\n",
       " 'NoteInstFamily_guitar',\n",
       " 'NotePitch_65',\n",
       " 'NoteDuration_1',\n",
       " 'NoteVelocity_66',\n",
       " 'NoteInstFamily_drums',\n",
       " 'NotePitch_37',\n",
       " 'NoteDuration_1',\n",
       " 'NoteVelocity_70',\n",
       " 'NoteInstFamily_drums',\n",
       " 'NotePitch_42',\n",
       " 'NoteDuration_1',\n",
       " 'NoteVelocity_70',\n",
       " 'BeatPosition_13',\n",
       " 'NoteInstFamily_piano',\n",
       " 'NotePitch_62',\n",
       " 'NoteDuration_1',\n",
       " 'NoteVelocity_96',\n",
       " 'NoteInstFamily_piano',\n",
       " 'NotePitch_64',\n",
       " 'NoteDuration_1',\n",
       " 'NoteVelocity_61',\n",
       " 'NoteInstFamily_piano',\n",
       " 'NotePitch_67',\n",
       " 'NoteDuration_4',\n",
       " 'NoteVelocity_87',\n",
       " 'BeatPosition_14',\n",
       " 'NoteInstFamily_drums',\n",
       " 'NotePitch_35',\n",
       " 'NoteDuration_1',\n",
       " 'NoteVelocity_48',\n",
       " 'NoteInstFamily_drums',\n",
       " 'NotePitch_42',\n",
       " 'NoteDuration_1',\n",
       " 'NoteVelocity_48',\n",
       " 'BeatPosition_15',\n",
       " 'NoteInstFamily_piano',\n",
       " 'NotePitch_62',\n",
       " 'NoteDuration_1',\n",
       " 'NoteVelocity_87',\n",
       " 'Bar',\n",
       " 'BeatChord_C_M7',\n",
       " 'NoteInstFamily_bass',\n",
       " 'NotePitch_36',\n",
       " 'NoteDuration_8',\n",
       " 'NoteVelocity_74',\n",
       " 'NoteInstFamily_piano',\n",
       " 'NotePitch_48',\n",
       " 'NoteDuration_3',\n",
       " 'NoteVelocity_61',\n",
       " 'NoteInstFamily_piano',\n",
       " 'NotePitch_60',\n",
       " 'NoteDuration_13',\n",
       " 'NoteVelocity_79',\n",
       " 'NoteInstFamily_drums',\n",
       " 'NotePitch_35',\n",
       " 'NoteDuration_1',\n",
       " 'NoteVelocity_70',\n",
       " 'NoteInstFamily_drums',\n",
       " 'NotePitch_42',\n",
       " 'NoteDuration_1',\n",
       " 'NoteVelocity_70',\n",
       " 'BeatPosition_2',\n",
       " 'NoteInstFamily_drums',\n",
       " 'NotePitch_42',\n",
       " 'NoteDuration_1',\n",
       " 'NoteVelocity_48',\n",
       " 'BeatPosition_4',\n",
       " 'NoteInstFamily_piano',\n",
       " 'NotePitch_52',\n",
       " 'NoteDuration_1',\n",
       " 'NoteVelocity_57',\n",
       " 'NoteInstFamily_piano',\n",
       " 'NotePitch_55',\n",
       " 'NoteDuration_1',\n",
       " 'NoteVelocity_53',\n",
       " 'NoteInstFamily_piano',\n",
       " 'NotePitch_60',\n",
       " 'NoteDuration_1',\n",
       " 'NoteVelocity_53',\n",
       " 'NoteInstFamily_piano',\n",
       " 'NotePitch_67',\n",
       " 'NoteDuration_2',\n",
       " 'NoteVelocity_70',\n",
       " 'NoteInstFamily_guitar',\n",
       " 'NotePitch_55',\n",
       " 'NoteDuration_1',\n",
       " 'NoteVelocity_66',\n",
       " 'NoteInstFamily_guitar',\n",
       " 'NotePitch_64',\n",
       " 'NoteDuration_1',\n",
       " 'NoteVelocity_66',\n",
       " 'NoteInstFamily_drums',\n",
       " 'NotePitch_37',\n",
       " 'NoteDuration_1',\n",
       " 'NoteVelocity_70',\n",
       " 'NoteInstFamily_drums',\n",
       " 'NotePitch_42',\n",
       " 'NoteDuration_1',\n",
       " 'NoteVelocity_70',\n",
       " 'BeatPosition_5',\n",
       " 'NoteInstFamily_piano',\n",
       " 'NotePitch_64',\n",
       " 'NoteDuration_2',\n",
       " 'NoteVelocity_61',\n",
       " 'BeatPosition_6',\n",
       " 'NoteInstFamily_piano',\n",
       " 'NotePitch_72',\n",
       " 'NoteDuration_2',\n",
       " 'NoteVelocity_74',\n",
       " 'NoteInstFamily_drums',\n",
       " 'NotePitch_35',\n",
       " 'NoteDuration_1',\n",
       " 'NoteVelocity_48',\n",
       " 'NoteInstFamily_drums',\n",
       " 'NotePitch_42',\n",
       " 'NoteDuration_1',\n",
       " 'NoteVelocity_48',\n",
       " 'BeatPosition_8',\n",
       " 'NoteInstFamily_bass',\n",
       " 'NotePitch_43',\n",
       " 'NoteDuration_8',\n",
       " 'NoteVelocity_74',\n",
       " 'NoteInstFamily_piano',\n",
       " 'NotePitch_43',\n",
       " 'NoteDuration_1',\n",
       " 'NoteVelocity_61',\n",
       " 'NoteInstFamily_piano',\n",
       " 'NotePitch_67',\n",
       " 'NoteDuration_2',\n",
       " 'NoteVelocity_74',\n",
       " 'NoteInstFamily_drums',\n",
       " 'NotePitch_35',\n",
       " 'NoteDuration_1',\n",
       " 'NoteVelocity_70',\n",
       " 'NoteInstFamily_drums',\n",
       " 'NotePitch_42',\n",
       " 'NoteDuration_1',\n",
       " 'NoteVelocity_70',\n",
       " 'BeatPosition_10',\n",
       " 'NoteInstFamily_piano',\n",
       " 'NotePitch_76',\n",
       " 'NoteDuration_1',\n",
       " 'NoteVelocity_70',\n",
       " 'NoteInstFamily_drums',\n",
       " 'NotePitch_42',\n",
       " 'NoteDuration_1',\n",
       " 'NoteVelocity_48',\n",
       " 'BeatPosition_12',\n",
       " 'NoteInstFamily_piano',\n",
       " 'NotePitch_52',\n",
       " 'NoteDuration_3',\n",
       " 'NoteVelocity_35',\n",
       " 'NoteInstFamily_piano',\n",
       " 'NotePitch_55',\n",
       " 'NoteDuration_3',\n",
       " 'NoteVelocity_35',\n",
       " 'NoteInstFamily_piano',\n",
       " 'NotePitch_60',\n",
       " 'NoteDuration_3',\n",
       " 'NoteVelocity_40',\n",
       " 'NoteInstFamily_piano',\n",
       " 'NotePitch_72',\n",
       " 'NoteDuration_5',\n",
       " 'NoteVelocity_74',\n",
       " 'NoteInstFamily_guitar',\n",
       " 'NotePitch_55',\n",
       " 'NoteDuration_1',\n",
       " 'NoteVelocity_66',\n",
       " 'NoteInstFamily_guitar',\n",
       " 'NotePitch_64',\n",
       " 'NoteDuration_1',\n",
       " 'NoteVelocity_66',\n",
       " 'NoteInstFamily_drums',\n",
       " 'NotePitch_37',\n",
       " 'NoteDuration_1',\n",
       " 'NoteVelocity_70',\n",
       " 'NoteInstFamily_drums',\n",
       " 'NotePitch_42',\n",
       " 'NoteDuration_1',\n",
       " 'NoteVelocity_70',\n",
       " 'BeatPosition_14',\n",
       " 'NoteInstFamily_drums',\n",
       " 'NotePitch_35',\n",
       " 'NoteDuration_1',\n",
       " 'NoteVelocity_48',\n",
       " 'NoteInstFamily_drums',\n",
       " 'NotePitch_42',\n",
       " 'NoteDuration_1',\n",
       " 'NoteVelocity_48',\n",
       " 'Bar',\n",
       " 'NoteInstFamily_bass',\n",
       " 'NotePitch_36',\n",
       " 'NoteDuration_8',\n",
       " 'NoteVelocity_79',\n",
       " 'NoteInstFamily_piano',\n",
       " 'NotePitch_48',\n",
       " 'NoteDuration_3',\n",
       " 'NoteVelocity_74',\n",
       " 'NoteInstFamily_drums',\n",
       " 'NotePitch_35',\n",
       " 'NoteDuration_1',\n",
       " 'NoteVelocity_70',\n",
       " 'NoteInstFamily_drums',\n",
       " 'NotePitch_42',\n",
       " 'NoteDuration_1',\n",
       " 'NoteVelocity_70',\n",
       " 'BeatPosition_2',\n",
       " 'NoteInstFamily_drums',\n",
       " 'NotePitch_42',\n",
       " 'NoteDuration_1',\n",
       " 'NoteVelocity_48',\n",
       " 'BeatPosition_4',\n",
       " 'NoteInstFamily_piano',\n",
       " 'NotePitch_52',\n",
       " 'NoteDuration_1',\n",
       " 'NoteVelocity_35',\n",
       " 'NoteInstFamily_piano',\n",
       " 'NotePitch_55',\n",
       " 'NoteDuration_1',\n",
       " 'NoteVelocity_48',\n",
       " 'NoteInstFamily_piano',\n",
       " 'NotePitch_60',\n",
       " 'NoteDuration_1',\n",
       " 'NoteVelocity_53',\n",
       " 'NoteInstFamily_piano',\n",
       " 'NotePitch_67',\n",
       " 'NoteDuration_2',\n",
       " 'NoteVelocity_70',\n",
       " 'NoteInstFamily_guitar',\n",
       " 'NotePitch_55',\n",
       " 'NoteDuration_1',\n",
       " 'NoteVelocity_66',\n",
       " 'NoteInstFamily_guitar',\n",
       " 'NotePitch_64',\n",
       " 'NoteDuration_1',\n",
       " 'NoteVelocity_66',\n",
       " 'NoteInstFamily_drums',\n",
       " 'NotePitch_37',\n",
       " 'NoteDuration_1',\n",
       " 'NoteVelocity_70',\n",
       " 'NoteInstFamily_drums',\n",
       " 'NotePitch_42',\n",
       " 'NoteDuration_1',\n",
       " 'NoteVelocity_70',\n",
       " 'BeatPosition_5',\n",
       " 'NoteInstFamily_piano',\n",
       " 'NotePitch_64',\n",
       " 'NoteDuration_2',\n",
       " 'NoteVelocity_70',\n",
       " 'BeatPosition_6',\n",
       " 'NoteInstFamily_piano',\n",
       " 'NotePitch_72',\n",
       " 'NoteDuration_2',\n",
       " 'NoteVelocity_74',\n",
       " 'NoteInstFamily_drums',\n",
       " 'NotePitch_35',\n",
       " 'NoteDuration_1',\n",
       " 'NoteVelocity_48',\n",
       " 'NoteInstFamily_drums',\n",
       " 'NotePitch_42',\n",
       " 'NoteDuration_1',\n",
       " 'NoteVelocity_48',\n",
       " 'BeatPosition_8',\n",
       " 'NoteInstFamily_bass',\n",
       " 'NotePitch_43',\n",
       " 'NoteDuration_7',\n",
       " 'NoteVelocity_66',\n",
       " 'NoteInstFamily_piano',\n",
       " 'NotePitch_43',\n",
       " 'NoteDuration_1',\n",
       " 'NoteVelocity_61',\n",
       " 'NoteInstFamily_piano',\n",
       " 'NotePitch_67',\n",
       " 'NoteDuration_2',\n",
       " 'NoteVelocity_70',\n",
       " 'NoteInstFamily_drums',\n",
       " 'NotePitch_35',\n",
       " 'NoteDuration_1',\n",
       " 'NoteVelocity_70',\n",
       " 'NoteInstFamily_drums',\n",
       " 'NotePitch_42',\n",
       " 'NoteDuration_1',\n",
       " 'NoteVelocity_70',\n",
       " 'BeatPosition_10',\n",
       " 'NoteInstFamily_piano',\n",
       " 'NotePitch_76',\n",
       " 'NoteDuration_1',\n",
       " 'NoteVelocity_74',\n",
       " 'NoteInstFamily_drums',\n",
       " 'NotePitch_42',\n",
       " 'NoteDuration_1',\n",
       " 'NoteVelocity_48',\n",
       " 'BeatPosition_12',\n",
       " 'NoteInstFamily_piano',\n",
       " 'NotePitch_72',\n",
       " 'NoteDuration_3',\n",
       " 'NoteVelocity_70',\n",
       " 'NoteInstFamily_piano',\n",
       " 'NotePitch_55',\n",
       " 'NoteDuration_3',\n",
       " 'NoteVelocity_48',\n",
       " 'NoteInstFamily_piano',\n",
       " 'NotePitch_60',\n",
       " 'NoteDuration_3',\n",
       " 'NoteVelocity_48',\n",
       " 'NoteInstFamily_piano',\n",
       " 'NotePitch_52',\n",
       " 'NoteDuration_3',\n",
       " 'NoteVelocity_44',\n",
       " 'NoteInstFamily_piano',\n",
       " 'NotePitch_64',\n",
       " 'NoteDuration_1',\n",
       " 'NoteVelocity_100',\n",
       " 'NoteInstFamily_guitar',\n",
       " 'NotePitch_55',\n",
       " 'NoteDuration_1',\n",
       " 'NoteVelocity_66',\n",
       " 'NoteInstFamily_guitar',\n",
       " 'NotePitch_64',\n",
       " 'NoteDuration_1',\n",
       " 'NoteVelocity_66',\n",
       " 'NoteInstFamily_drums',\n",
       " 'NotePitch_37',\n",
       " 'NoteDuration_1',\n",
       " 'NoteVelocity_70',\n",
       " 'NoteInstFamily_drums',\n",
       " 'NotePitch_42',\n",
       " 'NoteDuration_1',\n",
       " 'NoteVelocity_70',\n",
       " 'BeatPosition_13',\n",
       " 'NoteInstFamily_piano',\n",
       " 'NotePitch_65',\n",
       " 'NoteDuration_1',\n",
       " 'NoteVelocity_74',\n",
       " 'BeatPosition_14',\n",
       " 'NoteInstFamily_drums',\n",
       " 'NotePitch_35',\n",
       " 'NoteDuration_1',\n",
       " 'NoteVelocity_48',\n",
       " 'NoteInstFamily_drums',\n",
       " 'NotePitch_42',\n",
       " 'NoteDuration_1',\n",
       " 'NoteVelocity_48',\n",
       " 'BeatPosition_15',\n",
       " 'NoteInstFamily_piano',\n",
       " 'NotePitch_67',\n",
       " 'NoteDuration_2',\n",
       " 'NoteVelocity_87',\n",
       " 'Bar',\n",
       " 'NoteInstFamily_bass',\n",
       " 'NotePitch_36',\n",
       " 'NoteDuration_8',\n",
       " 'NoteVelocity_74',\n",
       " 'NoteInstFamily_piano',\n",
       " 'NotePitch_48',\n",
       " 'NoteDuration_1',\n",
       " 'NoteVelocity_70',\n",
       " 'NoteInstFamily_drums',\n",
       " 'NotePitch_35',\n",
       " 'NoteDuration_1',\n",
       " 'NoteVelocity_70',\n",
       " 'NoteInstFamily_drums',\n",
       " 'NotePitch_42',\n",
       " 'NoteDuration_1',\n",
       " 'NoteVelocity_70',\n",
       " 'BeatPosition_2',\n",
       " 'NoteInstFamily_piano',\n",
       " 'NotePitch_67',\n",
       " 'NoteDuration_1',\n",
       " 'NoteVelocity_61',\n",
       " 'NoteInstFamily_piano',\n",
       " 'NotePitch_67',\n",
       " 'NoteDuration_3',\n",
       " 'NoteVelocity_83',\n",
       " 'NoteInstFamily_drums',\n",
       " 'NotePitch_42',\n",
       " 'NoteDuration_1',\n",
       " 'NoteVelocity_48',\n",
       " 'BeatPosition_4',\n",
       " 'NoteInstFamily_piano',\n",
       " 'NotePitch_55',\n",
       " 'NoteDuration_1',\n",
       " 'NoteVelocity_48',\n",
       " 'NoteInstFamily_piano',\n",
       " 'NotePitch_60',\n",
       " 'NoteDuration_1',\n",
       " 'NoteVelocity_70',\n",
       " 'NoteInstFamily_piano',\n",
       " 'NotePitch_64',\n",
       " 'NoteDuration_2',\n",
       " 'NoteVelocity_74',\n",
       " 'NoteInstFamily_guitar',\n",
       " 'NotePitch_55',\n",
       " 'NoteDuration_1',\n",
       " 'NoteVelocity_61',\n",
       " 'NoteInstFamily_guitar',\n",
       " 'NotePitch_64',\n",
       " 'NoteDuration_1',\n",
       " 'NoteVelocity_74',\n",
       " 'NoteInstFamily_drums',\n",
       " 'NotePitch_37',\n",
       " 'NoteDuration_1',\n",
       " 'NoteVelocity_70',\n",
       " 'NoteInstFamily_drums',\n",
       " 'NotePitch_42',\n",
       " 'NoteDuration_1',\n",
       " 'NoteVelocity_70',\n",
       " 'BeatPosition_5',\n",
       " 'NoteInstFamily_piano',\n",
       " 'NotePitch_67',\n",
       " 'NoteDuration_1',\n",
       " 'NoteVelocity_87',\n",
       " 'BeatPosition_6',\n",
       " 'NoteInstFamily_piano',\n",
       " 'NotePitch_72',\n",
       " 'NoteDuration_1',\n",
       " 'NoteVelocity_57',\n",
       " 'NoteInstFamily_piano',\n",
       " 'NotePitch_67',\n",
       " 'NoteDuration_1',\n",
       " 'NoteVelocity_79',\n",
       " 'NoteInstFamily_drums',\n",
       " 'NotePitch_35',\n",
       " 'NoteDuration_1',\n",
       " 'NoteVelocity_48',\n",
       " 'NoteInstFamily_drums',\n",
       " 'NotePitch_42',\n",
       " 'NoteDuration_1',\n",
       " 'NoteVelocity_48',\n",
       " 'BeatPosition_8',\n",
       " 'NoteInstFamily_bass',\n",
       " 'NotePitch_43',\n",
       " 'NoteDuration_8',\n",
       " 'NoteVelocity_74',\n",
       " 'NoteInstFamily_piano',\n",
       " 'NotePitch_43',\n",
       " 'NoteDuration_1',\n",
       " 'NoteVelocity_57',\n",
       " 'NoteInstFamily_piano',\n",
       " 'NotePitch_67',\n",
       " 'NoteDuration_2',\n",
       " 'NoteVelocity_66',\n",
       " 'NoteInstFamily_piano',\n",
       " 'NotePitch_67',\n",
       " 'NoteDuration_1',\n",
       " 'NoteVelocity_83',\n",
       " 'NoteInstFamily_drums',\n",
       " 'NotePitch_35',\n",
       " 'NoteDuration_1',\n",
       " 'NoteVelocity_70',\n",
       " 'NoteInstFamily_drums',\n",
       " 'NotePitch_42',\n",
       " 'NoteDuration_1',\n",
       " 'NoteVelocity_70',\n",
       " 'BeatPosition_9',\n",
       " 'NoteInstFamily_piano',\n",
       " 'NotePitch_69',\n",
       " 'NoteDuration_1',\n",
       " 'NoteVelocity_66',\n",
       " 'BeatPosition_10',\n",
       " 'NoteInstFamily_piano',\n",
       " 'NotePitch_76',\n",
       " 'NoteDuration_1',\n",
       " 'NoteVelocity_66',\n",
       " 'NoteInstFamily_piano',\n",
       " 'NotePitch_67',\n",
       " 'NoteDuration_3',\n",
       " 'NoteVelocity_83',\n",
       " 'NoteInstFamily_drums',\n",
       " 'NotePitch_42',\n",
       " 'NoteDuration_1',\n",
       " 'NoteVelocity_48',\n",
       " 'BeatPosition_12',\n",
       " 'NoteInstFamily_piano',\n",
       " 'NotePitch_60',\n",
       " 'NoteDuration_1',\n",
       " 'NoteVelocity_57',\n",
       " 'NoteInstFamily_piano',\n",
       " 'NotePitch_55',\n",
       " 'NoteDuration_1',\n",
       " 'NoteVelocity_44',\n",
       " 'NoteInstFamily_piano',\n",
       " 'NotePitch_64',\n",
       " 'NoteDuration_1',\n",
       " 'NoteVelocity_40',\n",
       " 'NoteInstFamily_piano',\n",
       " 'NotePitch_72',\n",
       " 'NoteDuration_4',\n",
       " 'NoteVelocity_83',\n",
       " 'NoteInstFamily_guitar',\n",
       " 'NotePitch_55',\n",
       " 'NoteDuration_1',\n",
       " 'NoteVelocity_61',\n",
       " 'NoteInstFamily_guitar',\n",
       " 'NotePitch_64',\n",
       " 'NoteDuration_1',\n",
       " 'NoteVelocity_66',\n",
       " 'NoteInstFamily_drums',\n",
       " 'NotePitch_37',\n",
       " 'NoteDuration_1',\n",
       " 'NoteVelocity_70',\n",
       " 'NoteInstFamily_drums',\n",
       " 'NotePitch_42',\n",
       " 'NoteDuration_1',\n",
       " 'NoteVelocity_70',\n",
       " 'BeatPosition_13',\n",
       " 'NoteInstFamily_piano',\n",
       " 'NotePitch_65',\n",
       " 'NoteDuration_1',\n",
       " 'NoteVelocity_87',\n",
       " 'BeatPosition_14',\n",
       " 'NoteInstFamily_piano',\n",
       " 'NotePitch_64',\n",
       " 'NoteDuration_1',\n",
       " 'NoteVelocity_79',\n",
       " 'NoteInstFamily_drums',\n",
       " 'NotePitch_35',\n",
       " 'NoteDuration_1',\n",
       " 'NoteVelocity_48',\n",
       " 'NoteInstFamily_drums',\n",
       " 'NotePitch_42',\n",
       " 'NoteDuration_1',\n",
       " 'NoteVelocity_48',\n",
       " 'Bar',\n",
       " 'NoteInstFamily_bass',\n",
       " 'NotePitch_36',\n",
       " 'NoteDuration_8',\n",
       " 'NoteVelocity_79',\n",
       " 'NoteInstFamily_piano',\n",
       " 'NotePitch_48',\n",
       " 'NoteDuration_1',\n",
       " 'NoteVelocity_66',\n",
       " 'NoteInstFamily_piano',\n",
       " 'NotePitch_67',\n",
       " 'NoteDuration_4',\n",
       " 'NoteVelocity_87',\n",
       " 'NoteInstFamily_drums',\n",
       " 'NotePitch_35',\n",
       " 'NoteDuration_1',\n",
       " 'NoteVelocity_70',\n",
       " 'NoteInstFamily_drums',\n",
       " 'NotePitch_42',\n",
       " 'NoteDuration_1',\n",
       " 'NoteVelocity_70',\n",
       " 'BeatPosition_2',\n",
       " 'NoteInstFamily_piano',\n",
       " 'NotePitch_67',\n",
       " 'NoteDuration_1',\n",
       " 'NoteVelocity_61',\n",
       " 'NoteInstFamily_drums',\n",
       " 'NotePitch_42',\n",
       " 'NoteDuration_1',\n",
       " 'NoteVelocity_48',\n",
       " 'BeatPosition_4',\n",
       " 'NoteInstFamily_piano',\n",
       " 'NotePitch_60',\n",
       " 'NoteDuration_2',\n",
       " 'NoteVelocity_74',\n",
       " 'NoteInstFamily_piano',\n",
       " 'NotePitch_55',\n",
       " 'NoteDuration_2',\n",
       " 'NoteVelocity_31',\n",
       " 'NoteInstFamily_piano',\n",
       " 'NotePitch_64',\n",
       " 'NoteDuration_2',\n",
       " 'NoteVelocity_79',\n",
       " 'NoteInstFamily_piano',\n",
       " 'NotePitch_60',\n",
       " 'NoteDuration_1',\n",
       " 'NoteVelocity_83',\n",
       " 'NoteInstFamily_guitar',\n",
       " 'NotePitch_55',\n",
       " 'NoteDuration_1',\n",
       " 'NoteVelocity_57',\n",
       " 'NoteInstFamily_guitar',\n",
       " 'NotePitch_64',\n",
       " 'NoteDuration_1',\n",
       " 'NoteVelocity_70',\n",
       " 'NoteInstFamily_drums',\n",
       " 'NotePitch_37',\n",
       " 'NoteDuration_1',\n",
       " 'NoteVelocity_70',\n",
       " 'NoteInstFamily_drums',\n",
       " 'NotePitch_42',\n",
       " 'NoteDuration_1',\n",
       " 'NoteVelocity_70',\n",
       " 'BeatPosition_5',\n",
       " 'NoteInstFamily_piano',\n",
       " 'NotePitch_64',\n",
       " 'NoteDuration_1',\n",
       " 'NoteVelocity_96',\n",
       " 'BeatPosition_6',\n",
       " 'NoteInstFamily_piano',\n",
       " 'NotePitch_72',\n",
       " 'NoteDuration_1',\n",
       " 'NoteVelocity_83',\n",
       " 'NoteInstFamily_piano',\n",
       " 'NotePitch_67',\n",
       " 'NoteDuration_1',\n",
       " 'NoteVelocity_83',\n",
       " 'NoteInstFamily_drums',\n",
       " 'NotePitch_35',\n",
       " 'NoteDuration_1',\n",
       " 'NoteVelocity_48',\n",
       " 'NoteInstFamily_drums',\n",
       " 'NotePitch_42',\n",
       " 'NoteDuration_1',\n",
       " 'NoteVelocity_48',\n",
       " 'BeatPosition_8',\n",
       " 'NoteInstFamily_bass',\n",
       " 'NotePitch_43',\n",
       " 'NoteDuration_7',\n",
       " 'NoteVelocity_66',\n",
       " 'NoteInstFamily_piano',\n",
       " 'NotePitch_43',\n",
       " 'NoteDuration_1',\n",
       " 'NoteVelocity_66',\n",
       " 'NoteInstFamily_piano',\n",
       " 'NotePitch_67',\n",
       " 'NoteDuration_2',\n",
       " 'NoteVelocity_74',\n",
       " 'NoteInstFamily_piano',\n",
       " 'NotePitch_69',\n",
       " 'NoteDuration_2',\n",
       " 'NoteVelocity_83',\n",
       " 'NoteInstFamily_drums',\n",
       " 'NotePitch_35',\n",
       " ...]"
      ]
     },
     "execution_count": 27,
     "metadata": {},
     "output_type": "execute_result"
    }
   ],
   "source": [
    "remi"
   ]
  },
  {
   "cell_type": "code",
   "execution_count": 26,
   "id": "underlying-retailer",
   "metadata": {},
   "outputs": [
    {
     "ename": "AssertionError",
     "evalue": "",
     "output_type": "error",
     "traceback": [
      "\u001b[0;31m---------------------------------------------------------------------------\u001b[0m",
      "\u001b[0;31mAssertionError\u001b[0m                            Traceback (most recent call last)",
      "\u001b[0;32m<ipython-input-26-c2f2192df949>\u001b[0m in \u001b[0;36m<module>\u001b[0;34m\u001b[0m\n\u001b[0;32m----> 1\u001b[0;31m \u001b[0mseq_t\u001b[0m \u001b[0;34m=\u001b[0m \u001b[0mMusicRepr\u001b[0m\u001b[0;34m.\u001b[0m\u001b[0mfrom_string\u001b[0m\u001b[0;34m(\u001b[0m\u001b[0;34m' '\u001b[0m\u001b[0;34m.\u001b[0m\u001b[0mjoin\u001b[0m\u001b[0;34m(\u001b[0m\u001b[0mremi\u001b[0m\u001b[0;34m)\u001b[0m\u001b[0;34m,\u001b[0m \u001b[0mconst\u001b[0m\u001b[0;34m=\u001b[0m\u001b[0mseq\u001b[0m\u001b[0;34m.\u001b[0m\u001b[0mconst\u001b[0m\u001b[0;34m)\u001b[0m\u001b[0;34m\u001b[0m\u001b[0;34m\u001b[0m\u001b[0m\n\u001b[0m\u001b[1;32m      2\u001b[0m \u001b[0mseq_t\u001b[0m\u001b[0;34m.\u001b[0m\u001b[0mevents\u001b[0m \u001b[0;34m==\u001b[0m \u001b[0mseq\u001b[0m\u001b[0;34m.\u001b[0m\u001b[0mevents\u001b[0m\u001b[0;34m,\u001b[0m \u001b[0mseq\u001b[0m \u001b[0;34m==\u001b[0m \u001b[0mseq_t\u001b[0m\u001b[0;34m\u001b[0m\u001b[0;34m\u001b[0m\u001b[0m\n",
      "\u001b[0;32m/Library/Frameworks/Python.framework/Versions/3.7/lib/python3.7/site-packages/deepnote/repr.py\u001b[0m in \u001b[0;36mfrom_string\u001b[0;34m(text, const)\u001b[0m\n\u001b[1;32m    226\u001b[0m                 \u001b[0;32massert\u001b[0m \u001b[0misinstance\u001b[0m\u001b[0;34m(\u001b[0m\u001b[0mbars\u001b[0m\u001b[0;34m[\u001b[0m\u001b[0;34m-\u001b[0m\u001b[0;36m1\u001b[0m\u001b[0;34m]\u001b[0m\u001b[0;34m[\u001b[0m\u001b[0;34m-\u001b[0m\u001b[0;36m1\u001b[0m\u001b[0;34m]\u001b[0m\u001b[0;34m,\u001b[0m \u001b[0mMetric\u001b[0m\u001b[0;34m)\u001b[0m\u001b[0;34m\u001b[0m\u001b[0;34m\u001b[0m\u001b[0m\n\u001b[1;32m    227\u001b[0m                 \u001b[0mchord\u001b[0m \u001b[0;34m=\u001b[0m \u001b[0mtokens\u001b[0m\u001b[0;34m[\u001b[0m\u001b[0mi\u001b[0m\u001b[0;34m]\u001b[0m\u001b[0;34m[\u001b[0m\u001b[0;36m9\u001b[0m\u001b[0;34m:\u001b[0m\u001b[0;34m]\u001b[0m\u001b[0;34m\u001b[0m\u001b[0;34m\u001b[0m\u001b[0m\n\u001b[0;32m--> 228\u001b[0;31m                 \u001b[0;32massert\u001b[0m \u001b[0mchord\u001b[0m \u001b[0;32min\u001b[0m \u001b[0mconst\u001b[0m\u001b[0;34m.\u001b[0m\u001b[0mchords\u001b[0m\u001b[0;34m\u001b[0m\u001b[0;34m\u001b[0m\u001b[0m\n\u001b[0m\u001b[1;32m    229\u001b[0m                 \u001b[0mbars\u001b[0m\u001b[0;34m[\u001b[0m\u001b[0;34m-\u001b[0m\u001b[0;36m1\u001b[0m\u001b[0;34m]\u001b[0m\u001b[0;34m[\u001b[0m\u001b[0;34m-\u001b[0m\u001b[0;36m1\u001b[0m\u001b[0;34m]\u001b[0m\u001b[0;34m.\u001b[0m\u001b[0mchord\u001b[0m \u001b[0;34m=\u001b[0m \u001b[0mchord\u001b[0m\u001b[0;34m\u001b[0m\u001b[0;34m\u001b[0m\u001b[0m\n\u001b[1;32m    230\u001b[0m \u001b[0;34m\u001b[0m\u001b[0m\n",
      "\u001b[0;31mAssertionError\u001b[0m: "
     ]
    }
   ],
   "source": [
    "seq_t = MusicRepr.from_string(' '.join(remi), const=seq.const)\n",
    "seq_t.events == seq.events, seq == seq_t"
   ]
  },
  {
   "cell_type": "markdown",
   "id": "rough-marina",
   "metadata": {},
   "source": [
    "## merging tracks"
   ]
  },
  {
   "cell_type": "code",
   "execution_count": 25,
   "id": "sonic-season",
   "metadata": {},
   "outputs": [
    {
     "data": {
      "text/plain": [
       "True"
      ]
     },
     "execution_count": 25,
     "metadata": {},
     "output_type": "execute_result"
    }
   ],
   "source": [
    "seq_t = MusicRepr.merge_tracks(tracks)\n",
    "seq == seq_t"
   ]
  },
  {
   "cell_type": "code",
   "execution_count": null,
   "id": "manufactured-juvenile",
   "metadata": {},
   "outputs": [],
   "source": []
  }
 ],
 "metadata": {
  "kernelspec": {
   "display_name": "Python 3",
   "language": "python",
   "name": "python3"
  },
  "language_info": {
   "codemirror_mode": {
    "name": "ipython",
    "version": 3
   },
   "file_extension": ".py",
   "mimetype": "text/x-python",
   "name": "python",
   "nbconvert_exporter": "python",
   "pygments_lexer": "ipython3",
   "version": "3.7.4"
  }
 },
 "nbformat": 4,
 "nbformat_minor": 5
}
