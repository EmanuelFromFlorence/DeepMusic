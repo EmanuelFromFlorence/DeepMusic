{
 "cells": [
  {
   "cell_type": "code",
   "execution_count": 1,
   "id": "several-initial",
   "metadata": {},
   "outputs": [],
   "source": [
    "from miditoolkit.midi.parser import MidiFile\n",
    "\n",
    "from deepnote import MusicRepr, Constants, Metric, Note, utils"
   ]
  },
  {
   "cell_type": "markdown",
   "id": "accessible-emphasis",
   "metadata": {},
   "source": [
    "## constants"
   ]
  },
  {
   "cell_type": "code",
   "execution_count": 2,
   "id": "eleven-patent",
   "metadata": {},
   "outputs": [
    {
     "data": {
      "text/plain": [
       "Constants(unit=4, tick_resol=120, min_tempo=40, max_tempo=200, num_tempo_bins=20, num_velocity_bins=20)"
      ]
     },
     "execution_count": 2,
     "metadata": {},
     "output_type": "execute_result"
    }
   ],
   "source": [
    "const = Constants(\n",
    "    unit=4,\n",
    "    min_tempo=40,\n",
    "    max_tempo=200,\n",
    "    num_tempo_bins=20, \n",
    "    num_velocity_bins=20\n",
    ")\n",
    "const"
   ]
  },
  {
   "cell_type": "markdown",
   "id": "hearing-subject",
   "metadata": {},
   "source": [
    "## midi representation"
   ]
  },
  {
   "cell_type": "code",
   "execution_count": 3,
   "id": "beginning-tragedy",
   "metadata": {},
   "outputs": [
    {
     "data": {
      "text/plain": [
       "MusicRepr(\n",
       " num_events=4307,\n",
       " const=Constants(unit=4, tick_resol=120, min_tempo=40, max_tempo=200, num_tempo_bins=20, num_velocity_bins=20)\n",
       ")"
      ]
     },
     "execution_count": 3,
     "metadata": {},
     "output_type": "execute_result"
    }
   ],
   "source": [
    "# seq = MusicRepr.from_file(\n",
    "#     '../test-1.mid', \n",
    "#     unit=4,\n",
    "#     min_tempo=30,\n",
    "#     max_tempo=300,\n",
    "#     num_tempo_bins=30, \n",
    "#     num_velocity_bins=30\n",
    "# )\n",
    "seq = MusicRepr.from_file('assets/test.mid', const=const)\n",
    "seq"
   ]
  },
  {
   "cell_type": "code",
   "execution_count": 4,
   "id": "cardiovascular-notebook",
   "metadata": {},
   "outputs": [
    {
     "data": {
      "text/plain": [
       "Constants(unit=4, tick_resol=120, min_tempo=40, max_tempo=200, num_tempo_bins=20, num_velocity_bins=20)"
      ]
     },
     "execution_count": 4,
     "metadata": {},
     "output_type": "execute_result"
    }
   ],
   "source": [
    "seq.const"
   ]
  },
  {
   "cell_type": "code",
   "execution_count": 5,
   "id": "pacific-leadership",
   "metadata": {},
   "outputs": [
    {
     "data": {
      "text/plain": [
       "[Bar(position=0, tempo=124),\n",
       " Beat(position=9, tempo=98),\n",
       " Bar(position=0),\n",
       " Beat(position=4),\n",
       " Note(inst_family=piano, pitch=64, duration=1, velocity=107),\n",
       " Beat(position=5),\n",
       " Note(inst_family=piano, pitch=65, duration=1, velocity=87),\n",
       " Beat(position=7),\n",
       " Note(inst_family=piano, pitch=67, duration=3, velocity=87),\n",
       " Beat(position=11)]"
      ]
     },
     "execution_count": 5,
     "metadata": {},
     "output_type": "execute_result"
    }
   ],
   "source": [
    "seq[:10]"
   ]
  },
  {
   "cell_type": "markdown",
   "id": "supposed-herald",
   "metadata": {},
   "source": [
    "### splitting bars"
   ]
  },
  {
   "cell_type": "code",
   "execution_count": 6,
   "id": "balanced-exposure",
   "metadata": {},
   "outputs": [
    {
     "data": {
      "text/plain": [
       "76"
      ]
     },
     "execution_count": 6,
     "metadata": {},
     "output_type": "execute_result"
    }
   ],
   "source": [
    "seq.get_bar_count()"
   ]
  },
  {
   "cell_type": "code",
   "execution_count": 11,
   "id": "extra-attitude",
   "metadata": {
    "scrolled": true
   },
   "outputs": [
    {
     "data": {
      "text/plain": [
       "76"
      ]
     },
     "execution_count": 11,
     "metadata": {},
     "output_type": "execute_result"
    }
   ],
   "source": [
    "bars = seq.get_bars()\n",
    "len(bars)"
   ]
  },
  {
   "cell_type": "markdown",
   "id": "centered-memphis",
   "metadata": {},
   "source": [
    "## concatenating bars"
   ]
  },
  {
   "cell_type": "code",
   "execution_count": 8,
   "id": "middle-wiring",
   "metadata": {},
   "outputs": [
    {
     "data": {
      "text/plain": [
       "2"
      ]
     },
     "execution_count": 8,
     "metadata": {},
     "output_type": "execute_result"
    }
   ],
   "source": [
    "seq2 = MusicRepr.concatenate(bars[:2])\n",
    "seq2.get_bar_count()"
   ]
  },
  {
   "cell_type": "markdown",
   "id": "narrow-catalog",
   "metadata": {},
   "source": [
    "## Slicing"
   ]
  },
  {
   "cell_type": "markdown",
   "id": "handed-mouse",
   "metadata": {},
   "source": [
    "### bar index"
   ]
  },
  {
   "cell_type": "code",
   "execution_count": 9,
   "id": "considered-athens",
   "metadata": {
    "scrolled": true
   },
   "outputs": [
    {
     "name": "stdout",
     "output_type": "stream",
     "text": [
      "True True\n"
     ]
    }
   ],
   "source": [
    "seq2 = seq.slice_by_bar(1,2)\n",
    "print(seq2.events == bars[1].events, seq2 == bars[1])"
   ]
  },
  {
   "cell_type": "markdown",
   "id": "thick-removal",
   "metadata": {},
   "source": [
    "### beat index"
   ]
  },
  {
   "cell_type": "code",
   "execution_count": 10,
   "id": "latter-peninsula",
   "metadata": {
    "scrolled": true
   },
   "outputs": [
    {
     "name": "stdout",
     "output_type": "stream",
     "text": [
      "True True\n"
     ]
    }
   ],
   "source": [
    "seq2 = seq.slice_by_beat(12, 16)\n",
    "print(seq2.events == bars[3].events, seq2 == bars[3])"
   ]
  },
  {
   "cell_type": "markdown",
   "id": "therapeutic-edinburgh",
   "metadata": {},
   "source": [
    "### event index"
   ]
  },
  {
   "cell_type": "code",
   "execution_count": 11,
   "id": "requested-background",
   "metadata": {},
   "outputs": [
    {
     "data": {
      "text/plain": [
       "[Bar(position=0, tempo=123),\n",
       " Beat(position=9, tempo=104),\n",
       " Bar(position=0),\n",
       " Beat(position=4),\n",
       " Note(inst_family=piano, pitch=64, duration=1, velocity=105),\n",
       " Beat(position=5),\n",
       " Note(inst_family=piano, pitch=65, duration=1, velocity=87),\n",
       " Beat(position=7),\n",
       " Note(inst_family=piano, pitch=67, duration=3, velocity=87),\n",
       " Beat(position=11)]"
      ]
     },
     "execution_count": 11,
     "metadata": {},
     "output_type": "execute_result"
    }
   ],
   "source": [
    "seq2 = seq.slice_by_index(0,10)\n",
    "seq2[:]"
   ]
  },
  {
   "cell_type": "markdown",
   "id": "korean-evaluation",
   "metadata": {},
   "source": [
    "## separating different instrument tracks"
   ]
  },
  {
   "cell_type": "code",
   "execution_count": 20,
   "id": "productive-shower",
   "metadata": {},
   "outputs": [
    {
     "data": {
      "text/plain": [
       "(['drums', 'piano', 'bass', 'ensemble', 'guitar'],\n",
       " ['drums', 'piano', 'bass', 'ensemble', 'guitar'])"
      ]
     },
     "execution_count": 20,
     "metadata": {},
     "output_type": "execute_result"
    }
   ],
   "source": [
    "tracks = seq.separate_tracks()\n",
    "list(tracks.keys()), seq.get_instruments()"
   ]
  },
  {
   "cell_type": "code",
   "execution_count": 21,
   "id": "falling-pearl",
   "metadata": {},
   "outputs": [
    {
     "name": "stdout",
     "output_type": "stream",
     "text": [
      "76\n",
      "76\n",
      "76\n",
      "76\n",
      "76\n"
     ]
    }
   ],
   "source": [
    "for inst in tracks:\n",
    "    print(tracks[inst].get_bar_count())"
   ]
  },
  {
   "cell_type": "code",
   "execution_count": 22,
   "id": "proud-pension",
   "metadata": {},
   "outputs": [
    {
     "data": {
      "text/plain": [
       "[Bar(position=0, tempo=124),\n",
       " Beat(position=9, tempo=98),\n",
       " Bar(position=0),\n",
       " Bar(position=0, chord=G_M7),\n",
       " Note(inst_family=bass, pitch=43, duration=8, velocity=73),\n",
       " Beat(position=8, chord=B_m),\n",
       " Note(inst_family=bass, pitch=50, duration=8, velocity=73),\n",
       " Bar(position=0, chord=G_M7),\n",
       " Note(inst_family=bass, pitch=43, duration=8, velocity=80),\n",
       " Beat(position=8, chord=G_7)]"
      ]
     },
     "execution_count": 22,
     "metadata": {},
     "output_type": "execute_result"
    }
   ],
   "source": [
    "tracks['bass'][:10]"
   ]
  },
  {
   "cell_type": "markdown",
   "id": "improved-illustration",
   "metadata": {},
   "source": [
    "## exporting"
   ]
  },
  {
   "cell_type": "markdown",
   "id": "duplicate-girlfriend",
   "metadata": {},
   "source": [
    "### midi"
   ]
  },
  {
   "cell_type": "code",
   "execution_count": 15,
   "id": "reserved-article",
   "metadata": {},
   "outputs": [
    {
     "data": {
      "text/plain": [
       "ticks per beat: 120\n",
       "max tick: 36390\n",
       "tempo changes: 2\n",
       "time sig: 1\n",
       "key sig: 0\n",
       "markers: 70\n",
       "lyrics: False\n",
       "instruments: 5"
      ]
     },
     "execution_count": 15,
     "metadata": {},
     "output_type": "execute_result"
    }
   ],
   "source": [
    "midi = seq.to_midi('assets/rec_test.mid')\n",
    "midi"
   ]
  },
  {
   "cell_type": "markdown",
   "id": "solid-borough",
   "metadata": {},
   "source": [
    "### remi"
   ]
  },
  {
   "cell_type": "code",
   "execution_count": 9,
   "id": "broad-transmission",
   "metadata": {},
   "outputs": [
    {
     "data": {
      "text/plain": [
       "['Bar',\n",
       " 'BeatTempo_124',\n",
       " 'BeatPosition_9',\n",
       " 'BeatTempo_98',\n",
       " 'Bar',\n",
       " 'BeatPosition_4',\n",
       " 'NoteInstFamily_piano',\n",
       " 'NotePitch_64',\n",
       " 'NoteDuration_1',\n",
       " 'NoteVelocity_107']"
      ]
     },
     "execution_count": 9,
     "metadata": {},
     "output_type": "execute_result"
    }
   ],
   "source": [
    "remi = seq.to_remi(ret='token')\n",
    "remi[:10]"
   ]
  },
  {
   "cell_type": "code",
   "execution_count": 10,
   "id": "radio-skating",
   "metadata": {},
   "outputs": [
    {
     "data": {
      "text/plain": [
       "[Event(type=Bar),\n",
       " Event(type=BeatTempo, value=124),\n",
       " Event(type=BeatPosition, value=9),\n",
       " Event(type=BeatTempo, value=98),\n",
       " Event(type=Bar),\n",
       " Event(type=BeatPosition, value=4),\n",
       " Event(type=NoteInstFamily, value=piano),\n",
       " Event(type=NotePitch, value=64),\n",
       " Event(type=NoteDuration, value=1),\n",
       " Event(type=NoteVelocity, value=107)]"
      ]
     },
     "execution_count": 10,
     "metadata": {},
     "output_type": "execute_result"
    }
   ],
   "source": [
    "seq.to_remi(ret='event')[:10]"
   ]
  },
  {
   "cell_type": "code",
   "execution_count": 8,
   "id": "handmade-appendix",
   "metadata": {},
   "outputs": [
    {
     "data": {
      "text/plain": [
       "[0, 28, 11, 25, 0, 6, 170, 251, 315, 347]"
      ]
     },
     "execution_count": 8,
     "metadata": {},
     "output_type": "execute_result"
    }
   ],
   "source": [
    "seq.to_remi(ret='index', add_eos=True)[:10]"
   ]
  },
  {
   "cell_type": "markdown",
   "id": "finished-weather",
   "metadata": {},
   "source": [
    "### compound word"
   ]
  },
  {
   "cell_type": "code",
   "execution_count": 14,
   "id": "rolled-horse",
   "metadata": {},
   "outputs": [
    {
     "data": {
      "text/plain": [
       "((4308, 8), 4307)"
      ]
     },
     "execution_count": 14,
     "metadata": {},
     "output_type": "execute_result"
    }
   ],
   "source": [
    "cp = seq.to_cp(add_eos=True)\n",
    "cp.shape, len(seq)"
   ]
  },
  {
   "cell_type": "code",
   "execution_count": 12,
   "id": "minor-whole",
   "metadata": {},
   "outputs": [
    {
     "data": {
      "text/plain": [
       "array([[ 0,  0, 11,  0,  0,  0,  0,  0],\n",
       "       [ 0,  9,  8,  0,  0,  0,  0,  0]])"
      ]
     },
     "execution_count": 12,
     "metadata": {},
     "output_type": "execute_result"
    }
   ],
   "source": [
    "bars[0].to_cp()"
   ]
  },
  {
   "cell_type": "markdown",
   "id": "architectural-version",
   "metadata": {},
   "source": [
    "## Importing"
   ]
  },
  {
   "cell_type": "markdown",
   "id": "ethical-restoration",
   "metadata": {},
   "source": [
    "### from cp"
   ]
  },
  {
   "cell_type": "code",
   "execution_count": 15,
   "id": "younger-details",
   "metadata": {},
   "outputs": [
    {
     "data": {
      "text/plain": [
       "(True, True)"
      ]
     },
     "execution_count": 15,
     "metadata": {},
     "output_type": "execute_result"
    }
   ],
   "source": [
    "seq_t = MusicRepr.from_cp(cp, const=seq.const)\n",
    "seq_t.events == seq.events, seq == seq_t"
   ]
  },
  {
   "cell_type": "markdown",
   "id": "damaged-thing",
   "metadata": {},
   "source": [
    "### from remi"
   ]
  },
  {
   "cell_type": "code",
   "execution_count": 18,
   "id": "underlying-retailer",
   "metadata": {},
   "outputs": [
    {
     "data": {
      "text/plain": [
       "(True, True)"
      ]
     },
     "execution_count": 18,
     "metadata": {},
     "output_type": "execute_result"
    }
   ],
   "source": [
    "seq_t = MusicRepr.from_string(' '.join(remi), const=seq.const)\n",
    "seq_t.events == seq.events, seq == seq_t"
   ]
  },
  {
   "cell_type": "markdown",
   "id": "rough-marina",
   "metadata": {},
   "source": [
    "## merging tracks"
   ]
  },
  {
   "cell_type": "code",
   "execution_count": 23,
   "id": "sonic-season",
   "metadata": {},
   "outputs": [
    {
     "data": {
      "text/plain": [
       "True"
      ]
     },
     "execution_count": 23,
     "metadata": {},
     "output_type": "execute_result"
    }
   ],
   "source": [
    "seq_t = MusicRepr.merge_tracks(tracks)\n",
    "seq == seq_t"
   ]
  },
  {
   "cell_type": "code",
   "execution_count": null,
   "id": "manufactured-juvenile",
   "metadata": {},
   "outputs": [],
   "source": []
  }
 ],
 "metadata": {
  "kernelspec": {
   "display_name": "Python 3",
   "language": "python",
   "name": "python3"
  },
  "language_info": {
   "codemirror_mode": {
    "name": "ipython",
    "version": 3
   },
   "file_extension": ".py",
   "mimetype": "text/x-python",
   "name": "python",
   "nbconvert_exporter": "python",
   "pygments_lexer": "ipython3",
   "version": "3.7.4"
  }
 },
 "nbformat": 4,
 "nbformat_minor": 5
}
