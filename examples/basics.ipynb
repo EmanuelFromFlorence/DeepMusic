{
 "cells": [
  {
   "cell_type": "code",
   "execution_count": 1,
   "id": "several-initial",
   "metadata": {},
   "outputs": [],
   "source": [
    "from miditoolkit.midi.parser import MidiFile\n",
    "\n",
    "from deepnote import MusicRepr, Constants, Metric, Note, utils"
   ]
  },
  {
   "cell_type": "markdown",
   "id": "accessible-emphasis",
   "metadata": {},
   "source": [
    "## constants"
   ]
  },
  {
   "cell_type": "code",
   "execution_count": 2,
   "id": "eleven-patent",
   "metadata": {},
   "outputs": [
    {
     "data": {
      "text/plain": [
       "Constants(unit=12, tick_resol=120, min_tempo=30, max_tempo=300, num_tempo_bins=30, num_velocity_bins=30)"
      ]
     },
     "execution_count": 2,
     "metadata": {},
     "output_type": "execute_result"
    }
   ],
   "source": [
    "const = Constants()\n",
    "const"
   ]
  },
  {
   "cell_type": "code",
   "execution_count": 3,
   "id": "departmental-banks",
   "metadata": {},
   "outputs": [
    {
     "data": {
      "text/plain": [
       "dict_keys(['unit', 'n_bar_steps', 'tick_resol', 'step', 'bar_resol', 'position_bins', 'min_tempo', 'max_tempo', 'num_tempo_bins', 'tempo_bins', 'pitch_classes', 'chord_qualities', 'chords', 'instruments', 'pitches', 'duration_bins', 'num_velocity_bins', 'velocity_bins', 'all_tokens'])"
      ]
     },
     "execution_count": 3,
     "metadata": {},
     "output_type": "execute_result"
    }
   ],
   "source": [
    "vars(const).keys()"
   ]
  },
  {
   "cell_type": "markdown",
   "id": "hearing-subject",
   "metadata": {},
   "source": [
    "## midi representation"
   ]
  },
  {
   "cell_type": "code",
   "execution_count": 4,
   "id": "beginning-tragedy",
   "metadata": {},
   "outputs": [
    {
     "data": {
      "text/plain": [
       "MusicRepr(\n",
       " num_events=799,\n",
       " const=Constants(unit=4, tick_resol=100, min_tempo=30, max_tempo=300, num_tempo_bins=30, num_velocity_bins=30)\n",
       ")"
      ]
     },
     "execution_count": 4,
     "metadata": {},
     "output_type": "execute_result"
    }
   ],
   "source": [
    "seq = MusicRepr.from_file(\n",
    "    '../test-1.mid', \n",
    "    unit=4,\n",
    "    min_tempo=30,\n",
    "    max_tempo=300,\n",
    "    num_tempo_bins=30, \n",
    "    num_velocity_bins=30\n",
    ")\n",
    "seq"
   ]
  },
  {
   "cell_type": "code",
   "execution_count": 5,
   "id": "cardiovascular-notebook",
   "metadata": {},
   "outputs": [
    {
     "data": {
      "text/plain": [
       "Constants(unit=4, tick_resol=100, min_tempo=30, max_tempo=300, num_tempo_bins=30, num_velocity_bins=30)"
      ]
     },
     "execution_count": 5,
     "metadata": {},
     "output_type": "execute_result"
    }
   ],
   "source": [
    "seq.const"
   ]
  },
  {
   "cell_type": "code",
   "execution_count": 6,
   "id": "pacific-leadership",
   "metadata": {},
   "outputs": [
    {
     "data": {
      "text/plain": [
       "[Bar(),\n",
       " Beat(position=1, tempo=169),\n",
       " Beat(position=2),\n",
       " Note(inst_family=guitar, pitch=66, duration=1, velocity=83),\n",
       " Note(inst_family=guitar, pitch=54, duration=3, velocity=53),\n",
       " Beat(position=4),\n",
       " Note(inst_family=guitar, pitch=66, duration=1, velocity=57),\n",
       " Note(inst_family=bass, pitch=35, duration=1, velocity=105),\n",
       " Beat(position=6),\n",
       " Note(inst_family=guitar, pitch=59, duration=3, velocity=61)]"
      ]
     },
     "execution_count": 6,
     "metadata": {},
     "output_type": "execute_result"
    }
   ],
   "source": [
    "seq[:10]"
   ]
  },
  {
   "cell_type": "markdown",
   "id": "supposed-herald",
   "metadata": {},
   "source": [
    "### splitting bars"
   ]
  },
  {
   "cell_type": "code",
   "execution_count": 7,
   "id": "balanced-exposure",
   "metadata": {},
   "outputs": [
    {
     "data": {
      "text/plain": [
       "18"
      ]
     },
     "execution_count": 7,
     "metadata": {},
     "output_type": "execute_result"
    }
   ],
   "source": [
    "seq.get_bar_count()"
   ]
  },
  {
   "cell_type": "code",
   "execution_count": 8,
   "id": "extra-attitude",
   "metadata": {
    "scrolled": true
   },
   "outputs": [
    {
     "data": {
      "text/plain": [
       "[Bar(),\n",
       " Beat(position=1, tempo=169),\n",
       " Beat(position=2),\n",
       " Note(inst_family=guitar, pitch=66, duration=1, velocity=83),\n",
       " Note(inst_family=guitar, pitch=54, duration=3, velocity=53),\n",
       " Beat(position=4),\n",
       " Note(inst_family=guitar, pitch=66, duration=1, velocity=57),\n",
       " Note(inst_family=bass, pitch=35, duration=1, velocity=105),\n",
       " Beat(position=6),\n",
       " Note(inst_family=guitar, pitch=59, duration=3, velocity=61),\n",
       " Note(inst_family=guitar, pitch=62, duration=3, velocity=61),\n",
       " Note(inst_family=guitar, pitch=66, duration=3, velocity=53),\n",
       " Note(inst_family=guitar, pitch=54, duration=7, velocity=57),\n",
       " Note(inst_family=bass, pitch=30, duration=3, velocity=113),\n",
       " Beat(position=9),\n",
       " Note(inst_family=guitar, pitch=62, duration=1, velocity=66),\n",
       " Note(inst_family=guitar, pitch=66, duration=1, velocity=74),\n",
       " Note(inst_family=guitar, pitch=59, duration=3, velocity=66),\n",
       " Beat(position=11),\n",
       " Note(inst_family=guitar, pitch=66, duration=3, velocity=57),\n",
       " Note(inst_family=guitar, pitch=62, duration=5, velocity=44),\n",
       " Note(inst_family=bass, pitch=30, duration=1, velocity=100),\n",
       " Beat(position=13),\n",
       " Note(inst_family=guitar, pitch=54, duration=3, velocity=53),\n",
       " Note(inst_family=guitar, pitch=59, duration=3, velocity=53),\n",
       " Note(inst_family=guitar, pitch=47, duration=13, velocity=66),\n",
       " Note(inst_family=bass, pitch=35, duration=4, velocity=118),\n",
       " Beat(position=14),\n",
       " Note(inst_family=guitar, pitch=66, duration=1, velocity=57),\n",
       " Beat(position=16),\n",
       " Note(inst_family=guitar, pitch=66, duration=1, velocity=74),\n",
       " Note(inst_family=guitar, pitch=62, duration=3, velocity=66),\n",
       " Note(inst_family=guitar, pitch=54, duration=3, velocity=66),\n",
       " Note(inst_family=guitar, pitch=59, duration=3, velocity=66)]"
      ]
     },
     "execution_count": 8,
     "metadata": {},
     "output_type": "execute_result"
    }
   ],
   "source": [
    "bars = seq.get_bars()\n",
    "bars[0][:]"
   ]
  },
  {
   "cell_type": "markdown",
   "id": "centered-memphis",
   "metadata": {},
   "source": [
    "## concatenating bars"
   ]
  },
  {
   "cell_type": "code",
   "execution_count": 9,
   "id": "middle-wiring",
   "metadata": {},
   "outputs": [
    {
     "data": {
      "text/plain": [
       "2"
      ]
     },
     "execution_count": 9,
     "metadata": {},
     "output_type": "execute_result"
    }
   ],
   "source": [
    "seq2 = MusicRepr.concatenate(bars[:2])\n",
    "seq2.get_bar_count()"
   ]
  },
  {
   "cell_type": "markdown",
   "id": "narrow-catalog",
   "metadata": {},
   "source": [
    "## Slicing"
   ]
  },
  {
   "cell_type": "markdown",
   "id": "handed-mouse",
   "metadata": {},
   "source": [
    "### bar index"
   ]
  },
  {
   "cell_type": "code",
   "execution_count": 10,
   "id": "considered-athens",
   "metadata": {
    "scrolled": true
   },
   "outputs": [
    {
     "name": "stdout",
     "output_type": "stream",
     "text": [
      "True True\n"
     ]
    },
    {
     "data": {
      "text/plain": [
       "[Bar(),\n",
       " Beat(position=2),\n",
       " Note(inst_family=guitar, pitch=66, duration=1, velocity=57),\n",
       " Note(inst_family=bass, pitch=35, duration=1, velocity=92),\n",
       " Beat(position=4),\n",
       " Note(inst_family=guitar, pitch=59, duration=3, velocity=61),\n",
       " Note(inst_family=guitar, pitch=62, duration=3, velocity=61),\n",
       " Note(inst_family=guitar, pitch=66, duration=3, velocity=53),\n",
       " Note(inst_family=guitar, pitch=54, duration=7, velocity=57),\n",
       " Note(inst_family=bass, pitch=35, duration=1, velocity=118)]"
      ]
     },
     "execution_count": 10,
     "metadata": {},
     "output_type": "execute_result"
    }
   ],
   "source": [
    "seq2 = seq.slice_by_bar(1,2)\n",
    "print(seq2.events == bars[1].events, seq2 == bars[1])\n",
    "seq2[:10]"
   ]
  },
  {
   "cell_type": "markdown",
   "id": "thick-removal",
   "metadata": {},
   "source": [
    "### beat index"
   ]
  },
  {
   "cell_type": "code",
   "execution_count": 11,
   "id": "latter-peninsula",
   "metadata": {
    "scrolled": true
   },
   "outputs": [
    {
     "name": "stdout",
     "output_type": "stream",
     "text": [
      "True True\n"
     ]
    },
    {
     "data": {
      "text/plain": [
       "[Bar(),\n",
       " Beat(position=4),\n",
       " Note(inst_family=guitar, pitch=61, duration=1, velocity=83),\n",
       " Note(inst_family=guitar, pitch=66, duration=1, velocity=92),\n",
       " Note(inst_family=guitar, pitch=58, duration=3, velocity=83),\n",
       " Note(inst_family=bass, pitch=30, duration=2, velocity=105),\n",
       " Note(inst_family=piano, pitch=70, duration=2, velocity=70),\n",
       " Note(inst_family=synth-effects, pitch=70, duration=2, velocity=31),\n",
       " Beat(position=5),\n",
       " Note(inst_family=guitar, pitch=61, duration=1, velocity=53)]"
      ]
     },
     "execution_count": 11,
     "metadata": {},
     "output_type": "execute_result"
    }
   ],
   "source": [
    "seq2 = seq.slice_by_beat(12, 16)\n",
    "print(seq2.events == bars[3].events, seq2 == bars[3])\n",
    "seq2[:10]"
   ]
  },
  {
   "cell_type": "markdown",
   "id": "therapeutic-edinburgh",
   "metadata": {},
   "source": [
    "### event index"
   ]
  },
  {
   "cell_type": "code",
   "execution_count": 12,
   "id": "requested-background",
   "metadata": {},
   "outputs": [
    {
     "data": {
      "text/plain": [
       "[Bar(),\n",
       " Beat(position=1, tempo=169),\n",
       " Beat(position=2),\n",
       " Note(inst_family=guitar, pitch=66, duration=1, velocity=83),\n",
       " Note(inst_family=guitar, pitch=54, duration=3, velocity=53),\n",
       " Beat(position=4),\n",
       " Note(inst_family=guitar, pitch=66, duration=1, velocity=57),\n",
       " Note(inst_family=bass, pitch=35, duration=1, velocity=105),\n",
       " Beat(position=6),\n",
       " Note(inst_family=guitar, pitch=59, duration=3, velocity=61)]"
      ]
     },
     "execution_count": 12,
     "metadata": {},
     "output_type": "execute_result"
    }
   ],
   "source": [
    "seq2 = seq.slice_by_index(0,10)\n",
    "seq2[:]"
   ]
  },
  {
   "cell_type": "markdown",
   "id": "korean-evaluation",
   "metadata": {},
   "source": [
    "## separating different instrument tracks"
   ]
  },
  {
   "cell_type": "code",
   "execution_count": 13,
   "id": "productive-shower",
   "metadata": {},
   "outputs": [
    {
     "data": {
      "text/plain": [
       "(['piano', 'bass', 'guitar', 'synth-effects'],\n",
       " ['piano', 'bass', 'guitar', 'synth-effects'])"
      ]
     },
     "execution_count": 13,
     "metadata": {},
     "output_type": "execute_result"
    }
   ],
   "source": [
    "tracks = seq.separate_tracks()\n",
    "list(tracks.keys()), seq.get_instruments()"
   ]
  },
  {
   "cell_type": "code",
   "execution_count": 14,
   "id": "falling-pearl",
   "metadata": {},
   "outputs": [
    {
     "name": "stdout",
     "output_type": "stream",
     "text": [
      "18\n",
      "18\n",
      "18\n",
      "18\n"
     ]
    }
   ],
   "source": [
    "for inst in tracks:\n",
    "    print(tracks[inst].get_bar_count())"
   ]
  },
  {
   "cell_type": "code",
   "execution_count": 15,
   "id": "proud-pension",
   "metadata": {},
   "outputs": [
    {
     "data": {
      "text/plain": [
       "[Bar(),\n",
       " Beat(position=1, tempo=169),\n",
       " Beat(position=4),\n",
       " Note(inst_family=bass, pitch=35, duration=1, velocity=105),\n",
       " Beat(position=6),\n",
       " Note(inst_family=bass, pitch=30, duration=3, velocity=113),\n",
       " Beat(position=11),\n",
       " Note(inst_family=bass, pitch=30, duration=1, velocity=100),\n",
       " Beat(position=13),\n",
       " Note(inst_family=bass, pitch=35, duration=4, velocity=118)]"
      ]
     },
     "execution_count": 15,
     "metadata": {},
     "output_type": "execute_result"
    }
   ],
   "source": [
    "tracks['bass'][:10]"
   ]
  },
  {
   "cell_type": "markdown",
   "id": "improved-illustration",
   "metadata": {},
   "source": [
    "## exporting"
   ]
  },
  {
   "cell_type": "markdown",
   "id": "duplicate-girlfriend",
   "metadata": {},
   "source": [
    "### midi"
   ]
  },
  {
   "cell_type": "code",
   "execution_count": 16,
   "id": "reserved-article",
   "metadata": {},
   "outputs": [
    {
     "data": {
      "text/plain": [
       "ticks per beat: 100\n",
       "max tick: 7025\n",
       "tempo changes: 1\n",
       "time sig: 1\n",
       "key sig: 0\n",
       "markers: 0\n",
       "lyrics: False\n",
       "instruments: 4"
      ]
     },
     "execution_count": 16,
     "metadata": {},
     "output_type": "execute_result"
    }
   ],
   "source": [
    "midi = seq.to_midi('test.mid')\n",
    "midi"
   ]
  },
  {
   "cell_type": "markdown",
   "id": "solid-borough",
   "metadata": {},
   "source": [
    "### remi"
   ]
  },
  {
   "cell_type": "code",
   "execution_count": 17,
   "id": "broad-transmission",
   "metadata": {},
   "outputs": [
    {
     "data": {
      "text/plain": [
       "['Bar',\n",
       " 'BeatPosition_1',\n",
       " 'BeatTempo_169',\n",
       " 'BeatPosition_2',\n",
       " 'NoteInstFamily_guitar',\n",
       " 'NotePitch_66',\n",
       " 'NoteDuration_1',\n",
       " 'NoteVelocity_83',\n",
       " 'NoteInstFamily_guitar',\n",
       " 'NotePitch_54']"
      ]
     },
     "execution_count": 17,
     "metadata": {},
     "output_type": "execute_result"
    }
   ],
   "source": [
    "remi = seq.to_remi(ret='token')\n",
    "remi[:10]"
   ]
  },
  {
   "cell_type": "code",
   "execution_count": 18,
   "id": "radio-skating",
   "metadata": {},
   "outputs": [
    {
     "data": {
      "text/plain": [
       "[Event(type=Bar),\n",
       " Event(type=BeatPosition, value=1),\n",
       " Event(type=BeatTempo, value=169),\n",
       " Event(type=BeatPosition, value=2),\n",
       " Event(type=NoteInstFamily, value=guitar),\n",
       " Event(type=NotePitch, value=66),\n",
       " Event(type=NoteDuration, value=1),\n",
       " Event(type=NoteVelocity, value=83),\n",
       " Event(type=NoteInstFamily, value=guitar),\n",
       " Event(type=NotePitch, value=54)]"
      ]
     },
     "execution_count": 18,
     "metadata": {},
     "output_type": "execute_result"
    }
   ],
   "source": [
    "seq.to_remi(ret='event')[:10]"
   ]
  },
  {
   "cell_type": "code",
   "execution_count": 19,
   "id": "handmade-appendix",
   "metadata": {},
   "outputs": [
    {
     "data": {
      "text/plain": [
       "[0, 2, 33, 3, 183, 263, 325, 360, 183, 251]"
      ]
     },
     "execution_count": 19,
     "metadata": {},
     "output_type": "execute_result"
    }
   ],
   "source": [
    "seq.to_remi(ret='index')[:10]"
   ]
  },
  {
   "cell_type": "markdown",
   "id": "finished-weather",
   "metadata": {},
   "source": [
    "### compound word"
   ]
  },
  {
   "cell_type": "code",
   "execution_count": 20,
   "id": "rolled-horse",
   "metadata": {},
   "outputs": [
    {
     "data": {
      "text/plain": [
       "((799, 8), 799)"
      ]
     },
     "execution_count": 20,
     "metadata": {},
     "output_type": "execute_result"
    }
   ],
   "source": [
    "cp = seq.to_cp()\n",
    "cp.shape, len(seq)"
   ]
  },
  {
   "cell_type": "code",
   "execution_count": 21,
   "id": "minor-whole",
   "metadata": {},
   "outputs": [
    {
     "data": {
      "text/plain": [
       "array([[ 0,  0,  0,  0,  0,  0,  0,  0],\n",
       "       [ 0,  1,  0,  0,  0,  0,  0,  0],\n",
       "       [ 1,  0,  0,  0,  3, 66,  0, 13],\n",
       "       [ 1,  0,  0,  0,  4, 35,  0, 26],\n",
       "       [ 0,  3,  0,  0,  0,  0,  0,  0],\n",
       "       [ 1,  0,  0,  0,  3, 62,  2, 17],\n",
       "       [ 1,  0,  0,  0,  3, 66,  2, 14],\n",
       "       [ 1,  0,  0,  0,  4, 33,  0, 26],\n",
       "       [ 1,  0,  0,  0,  0, 78,  0,  9],\n",
       "       [ 1,  0,  0,  0,  0, 74,  1, 24],\n",
       "       [ 1,  0,  0,  0, 12, 78,  0,  3],\n",
       "       [ 1,  0,  0,  0, 12, 74,  1, 10],\n",
       "       [ 0,  4,  0,  0,  0,  0,  0,  0],\n",
       "       [ 1,  0,  0,  0,  4, 37,  0, 24],\n",
       "       [ 1,  0,  0,  0,  0, 73,  1, 24],\n",
       "       [ 1,  0,  0,  0,  0, 76,  1,  8],\n",
       "       [ 1,  0,  0,  0, 12, 73,  1, 10],\n",
       "       [ 1,  0,  0,  0, 12, 76,  1,  3],\n",
       "       [ 0,  6,  0,  0,  0,  0,  0,  0],\n",
       "       [ 1,  0,  0,  0,  3, 66,  0, 18],\n",
       "       [ 1,  0,  0,  0,  3, 62,  2, 21],\n",
       "       [ 1,  0,  0,  0,  4, 38,  0, 21],\n",
       "       [ 0,  8,  0,  0,  0,  0,  0,  0],\n",
       "       [ 1,  0,  0,  0,  4, 39,  0, 21]])"
      ]
     },
     "execution_count": 21,
     "metadata": {},
     "output_type": "execute_result"
    }
   ],
   "source": [
    "bars[-1].to_cp()"
   ]
  },
  {
   "cell_type": "markdown",
   "id": "architectural-version",
   "metadata": {},
   "source": [
    "## Importing"
   ]
  },
  {
   "cell_type": "markdown",
   "id": "ethical-restoration",
   "metadata": {},
   "source": [
    "### from cp"
   ]
  },
  {
   "cell_type": "code",
   "execution_count": 22,
   "id": "younger-details",
   "metadata": {},
   "outputs": [
    {
     "data": {
      "text/plain": [
       "(True, True)"
      ]
     },
     "execution_count": 22,
     "metadata": {},
     "output_type": "execute_result"
    }
   ],
   "source": [
    "seq_t = MusicRepr.from_cp(cp, const=seq.const)\n",
    "seq_t.events == seq.events, seq == seq_t"
   ]
  },
  {
   "cell_type": "markdown",
   "id": "damaged-thing",
   "metadata": {},
   "source": [
    "### from remi"
   ]
  },
  {
   "cell_type": "code",
   "execution_count": 24,
   "id": "underlying-retailer",
   "metadata": {},
   "outputs": [
    {
     "data": {
      "text/plain": [
       "(True, True)"
      ]
     },
     "execution_count": 24,
     "metadata": {},
     "output_type": "execute_result"
    }
   ],
   "source": [
    "seq_t = MusicRepr.from_string(' '.join(remi), const=seq.const)\n",
    "seq_t.events == seq.events, seq == seq_t"
   ]
  },
  {
   "cell_type": "markdown",
   "id": "rough-marina",
   "metadata": {},
   "source": [
    "## merging tracks"
   ]
  },
  {
   "cell_type": "code",
   "execution_count": 25,
   "id": "sonic-season",
   "metadata": {},
   "outputs": [
    {
     "data": {
      "text/plain": [
       "True"
      ]
     },
     "execution_count": 25,
     "metadata": {},
     "output_type": "execute_result"
    }
   ],
   "source": [
    "seq_t = MusicRepr.merge_tracks(tracks)\n",
    "seq == seq_t"
   ]
  },
  {
   "cell_type": "code",
   "execution_count": null,
   "id": "manufactured-juvenile",
   "metadata": {},
   "outputs": [],
   "source": []
  }
 ],
 "metadata": {
  "kernelspec": {
   "display_name": "Python 3",
   "language": "python",
   "name": "python3"
  },
  "language_info": {
   "codemirror_mode": {
    "name": "ipython",
    "version": 3
   },
   "file_extension": ".py",
   "mimetype": "text/x-python",
   "name": "python",
   "nbconvert_exporter": "python",
   "pygments_lexer": "ipython3",
   "version": "3.7.4"
  }
 },
 "nbformat": 4,
 "nbformat_minor": 5
}
