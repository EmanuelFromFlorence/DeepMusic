{
 "cells": [
  {
   "cell_type": "code",
   "execution_count": 2,
   "id": "several-initial",
   "metadata": {},
   "outputs": [],
   "source": [
    "from miditoolkit.midi.parser import MidiFile\n",
    "\n",
    "from deepnote.repr import MusicRepr\n",
    "from deepnote.modules import Metric, Note\n",
    "from deepnote.const import *\n",
    "from deepnote import utils"
   ]
  },
  {
   "cell_type": "code",
   "execution_count": 3,
   "id": "loving-circle",
   "metadata": {},
   "outputs": [
    {
     "data": {
      "text/plain": [
       "ticks per beat: 100\n",
       "max tick: 7030\n",
       "tempo changes: 1\n",
       "time sig: 1\n",
       "key sig: 0\n",
       "markers: 0\n",
       "lyrics: False\n",
       "instruments: 4"
      ]
     },
     "execution_count": 3,
     "metadata": {},
     "output_type": "execute_result"
    }
   ],
   "source": [
    "midi = MidiFile('../test-1.mid')\n",
    "midi"
   ]
  },
  {
   "cell_type": "code",
   "execution_count": 4,
   "id": "beginning-tragedy",
   "metadata": {},
   "outputs": [
    {
     "data": {
      "text/plain": [
       "MusicRepr(tick_resol=100, unit=12)"
      ]
     },
     "execution_count": 4,
     "metadata": {},
     "output_type": "execute_result"
    }
   ],
   "source": [
    "seq = MusicRepr.from_midi(midi, unit=12)\n",
    "seq"
   ]
  },
  {
   "cell_type": "code",
   "execution_count": 5,
   "id": "pacific-leadership",
   "metadata": {},
   "outputs": [
    {
     "data": {
      "text/plain": [
       "[Bar(),\n",
       " Beat(position=1, tempo=175),\n",
       " Beat(position=6),\n",
       " Note(inst_family=guitar, pitch=66, duration=4, velocity=82),\n",
       " Note(inst_family=guitar, pitch=54, duration=10, velocity=53),\n",
       " Beat(position=11),\n",
       " Note(inst_family=guitar, pitch=66, duration=5, velocity=57),\n",
       " Note(inst_family=bass, pitch=35, duration=2, velocity=106),\n",
       " Beat(position=16),\n",
       " Note(inst_family=guitar, pitch=59, duration=10, velocity=61),\n",
       " Note(inst_family=guitar, pitch=62, duration=11, velocity=61),\n",
       " Note(inst_family=guitar, pitch=66, duration=11, velocity=53),\n",
       " Note(inst_family=guitar, pitch=54, duration=21, velocity=57),\n",
       " Note(inst_family=bass, pitch=30, duration=11, velocity=114),\n",
       " Beat(position=27),\n",
       " Note(inst_family=guitar, pitch=59, duration=10, velocity=65),\n",
       " Beat(position=28),\n",
       " Note(inst_family=guitar, pitch=62, duration=4, velocity=65),\n",
       " Note(inst_family=guitar, pitch=66, duration=4, velocity=74),\n",
       " Beat(position=32)]"
      ]
     },
     "execution_count": 5,
     "metadata": {},
     "output_type": "execute_result"
    }
   ],
   "source": [
    "seq[:20]"
   ]
  },
  {
   "cell_type": "markdown",
   "id": "supposed-herald",
   "metadata": {},
   "source": [
    "### splitting bars"
   ]
  },
  {
   "cell_type": "code",
   "execution_count": 6,
   "id": "balanced-exposure",
   "metadata": {},
   "outputs": [
    {
     "data": {
      "text/plain": [
       "19"
      ]
     },
     "execution_count": 6,
     "metadata": {},
     "output_type": "execute_result"
    }
   ],
   "source": [
    "seq.get_bar_count()"
   ]
  },
  {
   "cell_type": "code",
   "execution_count": 7,
   "id": "extra-attitude",
   "metadata": {
    "scrolled": true
   },
   "outputs": [
    {
     "data": {
      "text/plain": [
       "[Bar(),\n",
       " Beat(position=4),\n",
       " Note(inst_family=guitar, pitch=62, duration=10, velocity=90),\n",
       " Note(inst_family=bass, pitch=38, duration=3, velocity=90),\n",
       " Beat(position=5),\n",
       " Note(inst_family=guitar, pitch=66, duration=5, velocity=82),\n",
       " Beat(position=10),\n",
       " Note(inst_family=bass, pitch=39, duration=4, velocity=94)]"
      ]
     },
     "execution_count": 7,
     "metadata": {},
     "output_type": "execute_result"
    }
   ],
   "source": [
    "bars = seq.get_bars()\n",
    "bars[18][:]"
   ]
  },
  {
   "cell_type": "markdown",
   "id": "narrow-catalog",
   "metadata": {},
   "source": [
    "## Slicing"
   ]
  },
  {
   "cell_type": "markdown",
   "id": "handed-mouse",
   "metadata": {},
   "source": [
    "### bar index"
   ]
  },
  {
   "cell_type": "code",
   "execution_count": 8,
   "id": "considered-athens",
   "metadata": {
    "scrolled": true
   },
   "outputs": [
    {
     "name": "stdout",
     "output_type": "stream",
     "text": [
      "True True\n"
     ]
    },
    {
     "data": {
      "text/plain": [
       "[Bar(),\n",
       " Beat(position=2),\n",
       " Note(inst_family=guitar, pitch=66, duration=4, velocity=74),\n",
       " Note(inst_family=guitar, pitch=62, duration=10, velocity=65),\n",
       " Note(inst_family=guitar, pitch=54, duration=11, velocity=65),\n",
       " Note(inst_family=guitar, pitch=59, duration=10, velocity=65),\n",
       " Beat(position=7),\n",
       " Note(inst_family=guitar, pitch=66, duration=5, velocity=57),\n",
       " Note(inst_family=bass, pitch=35, duration=1, velocity=90),\n",
       " Beat(position=13)]"
      ]
     },
     "execution_count": 8,
     "metadata": {},
     "output_type": "execute_result"
    }
   ],
   "source": [
    "seq2 = seq.slice_by_bar(1,2)\n",
    "print(seq2.events == bars[1].events, seq2 == bars[1])\n",
    "seq2[:10]"
   ]
  },
  {
   "cell_type": "markdown",
   "id": "thick-removal",
   "metadata": {},
   "source": [
    "### beat index"
   ]
  },
  {
   "cell_type": "code",
   "execution_count": 9,
   "id": "latter-peninsula",
   "metadata": {
    "scrolled": true
   },
   "outputs": [
    {
     "name": "stdout",
     "output_type": "stream",
     "text": [
      "True True\n"
     ]
    },
    {
     "data": {
      "text/plain": [
       "[Bar(),\n",
       " Beat(position=5),\n",
       " Note(inst_family=guitar, pitch=58, duration=10, velocity=78),\n",
       " Note(inst_family=guitar, pitch=49, duration=21, velocity=53),\n",
       " Note(inst_family=guitar, pitch=54, duration=22, velocity=74),\n",
       " Note(inst_family=bass, pitch=37, duration=10, velocity=110),\n",
       " Note(inst_family=piano, pitch=68, duration=8, velocity=78),\n",
       " Note(inst_family=synth-effects, pitch=68, duration=8, velocity=33),\n",
       " Beat(position=16),\n",
       " Note(inst_family=guitar, pitch=58, duration=10, velocity=82)]"
      ]
     },
     "execution_count": 9,
     "metadata": {},
     "output_type": "execute_result"
    }
   ],
   "source": [
    "seq2 = seq.slice_by_beat(12, 16)\n",
    "print(seq2.events == bars[3].events, seq2 == bars[3])\n",
    "seq2[:10]"
   ]
  },
  {
   "cell_type": "markdown",
   "id": "therapeutic-edinburgh",
   "metadata": {},
   "source": [
    "### event index"
   ]
  },
  {
   "cell_type": "code",
   "execution_count": 10,
   "id": "requested-background",
   "metadata": {},
   "outputs": [
    {
     "data": {
      "text/plain": [
       "[Bar(),\n",
       " Beat(position=1, tempo=175),\n",
       " Beat(position=6),\n",
       " Note(inst_family=guitar, pitch=66, duration=4, velocity=82),\n",
       " Note(inst_family=guitar, pitch=54, duration=10, velocity=53),\n",
       " Beat(position=11),\n",
       " Note(inst_family=guitar, pitch=66, duration=5, velocity=57),\n",
       " Note(inst_family=bass, pitch=35, duration=2, velocity=106),\n",
       " Beat(position=16),\n",
       " Note(inst_family=guitar, pitch=59, duration=10, velocity=61)]"
      ]
     },
     "execution_count": 10,
     "metadata": {},
     "output_type": "execute_result"
    }
   ],
   "source": [
    "seq2 = seq.slice_by_index(0,10)\n",
    "seq2[:]"
   ]
  },
  {
   "cell_type": "markdown",
   "id": "korean-evaluation",
   "metadata": {},
   "source": [
    "## separating different instrument tracks"
   ]
  },
  {
   "cell_type": "code",
   "execution_count": 11,
   "id": "productive-shower",
   "metadata": {},
   "outputs": [
    {
     "data": {
      "text/plain": [
       "(['synth-effects', 'guitar', 'bass', 'piano'],\n",
       " ['synth-effects', 'guitar', 'bass', 'piano'])"
      ]
     },
     "execution_count": 11,
     "metadata": {},
     "output_type": "execute_result"
    }
   ],
   "source": [
    "tracks = seq.separate_tracks()\n",
    "list(tracks.keys()), seq.get_instruments()"
   ]
  },
  {
   "cell_type": "code",
   "execution_count": 12,
   "id": "falling-pearl",
   "metadata": {},
   "outputs": [
    {
     "name": "stdout",
     "output_type": "stream",
     "text": [
      "19\n",
      "19\n",
      "19\n",
      "19\n"
     ]
    }
   ],
   "source": [
    "for inst in tracks:\n",
    "    print(tracks[inst].get_bar_count())"
   ]
  },
  {
   "cell_type": "code",
   "execution_count": 13,
   "id": "proud-pension",
   "metadata": {},
   "outputs": [
    {
     "data": {
      "text/plain": [
       "[Bar(),\n",
       " Beat(position=1, tempo=175),\n",
       " Beat(position=11),\n",
       " Note(inst_family=bass, pitch=35, duration=2, velocity=106),\n",
       " Beat(position=16),\n",
       " Note(inst_family=bass, pitch=30, duration=11, velocity=114),\n",
       " Beat(position=33),\n",
       " Note(inst_family=bass, pitch=30, duration=1, velocity=98),\n",
       " Beat(position=38),\n",
       " Note(inst_family=bass, pitch=35, duration=13, velocity=114),\n",
       " Bar(),\n",
       " Beat(position=7),\n",
       " Note(inst_family=bass, pitch=35, duration=1, velocity=90),\n",
       " Beat(position=13),\n",
       " Note(inst_family=bass, pitch=35, duration=5, velocity=114),\n",
       " Beat(position=18),\n",
       " Note(inst_family=bass, pitch=33, duration=4, velocity=114),\n",
       " Beat(position=24),\n",
       " Note(inst_family=bass, pitch=30, duration=5, velocity=114),\n",
       " Beat(position=29),\n",
       " Note(inst_family=bass, pitch=28, duration=4, velocity=106),\n",
       " Beat(position=35),\n",
       " Note(inst_family=bass, pitch=30, duration=13, velocity=110),\n",
       " Bar(),\n",
       " Beat(position=4),\n",
       " Note(inst_family=bass, pitch=30, duration=4, velocity=102),\n",
       " Beat(position=9),\n",
       " Note(inst_family=bass, pitch=37, duration=14, velocity=110),\n",
       " Beat(position=26),\n",
       " Note(inst_family=bass, pitch=37, duration=3, velocity=102),\n",
       " Beat(position=31),\n",
       " Note(inst_family=bass, pitch=30, duration=13, velocity=106),\n",
       " Beat(position=48),\n",
       " Note(inst_family=bass, pitch=30, duration=3, velocity=98),\n",
       " Bar(),\n",
       " Beat(position=5),\n",
       " Note(inst_family=bass, pitch=37, duration=10, velocity=110),\n",
       " Beat(position=16),\n",
       " Note(inst_family=bass, pitch=30, duration=7, velocity=106),\n",
       " Beat(position=27),\n",
       " Note(inst_family=bass, pitch=28, duration=11, velocity=114),\n",
       " Beat(position=44),\n",
       " Note(inst_family=bass, pitch=28, duration=3, velocity=110),\n",
       " Bar(),\n",
       " Beat(position=1),\n",
       " Note(inst_family=bass, pitch=28, duration=13, velocity=106),\n",
       " Beat(position=18),\n",
       " Note(inst_family=bass, pitch=40, duration=4, velocity=98),\n",
       " Beat(position=24),\n",
       " Note(inst_family=bass, pitch=28, duration=10, velocity=118),\n",
       " Beat(position=40),\n",
       " Note(inst_family=bass, pitch=28, duration=4, velocity=114),\n",
       " Beat(position=45),\n",
       " Note(inst_family=bass, pitch=30, duration=8, velocity=106),\n",
       " Bar(),\n",
       " Beat(position=8),\n",
       " Note(inst_family=bass, pitch=32, duration=7, velocity=114),\n",
       " Beat(position=19),\n",
       " Note(inst_family=bass, pitch=33, duration=14, velocity=118),\n",
       " Beat(position=36),\n",
       " Note(inst_family=bass, pitch=33, duration=4, velocity=102),\n",
       " Beat(position=41),\n",
       " Note(inst_family=bass, pitch=28, duration=13, velocity=110),\n",
       " Bar(),\n",
       " Beat(position=10),\n",
       " Note(inst_family=bass, pitch=28, duration=5, velocity=110),\n",
       " Beat(position=16),\n",
       " Note(inst_family=bass, pitch=30, duration=14, velocity=114),\n",
       " Beat(position=32),\n",
       " Note(inst_family=bass, pitch=25, duration=5, velocity=114),\n",
       " Beat(position=38),\n",
       " Note(inst_family=bass, pitch=37, duration=5, velocity=102),\n",
       " Beat(position=43),\n",
       " Note(inst_family=bass, pitch=33, duration=5, velocity=102),\n",
       " Bar(),\n",
       " Beat(position=1),\n",
       " Note(inst_family=bass, pitch=35, duration=8, velocity=110),\n",
       " Beat(position=12),\n",
       " Note(inst_family=bass, pitch=33, duration=14, velocity=102),\n",
       " Beat(position=28),\n",
       " Note(inst_family=bass, pitch=33, duration=5, velocity=110),\n",
       " Beat(position=34),\n",
       " Note(inst_family=bass, pitch=28, duration=15, velocity=102),\n",
       " Bar(),\n",
       " Beat(position=3),\n",
       " Note(inst_family=bass, pitch=28, duration=5, velocity=114),\n",
       " Beat(position=8),\n",
       " Note(inst_family=bass, pitch=30, duration=13, velocity=110),\n",
       " Beat(position=25),\n",
       " Note(inst_family=bass, pitch=25, duration=5, velocity=110),\n",
       " Beat(position=30),\n",
       " Note(inst_family=bass, pitch=37, duration=5, velocity=98),\n",
       " Beat(position=36),\n",
       " Note(inst_family=bass, pitch=33, duration=4, velocity=110),\n",
       " Beat(position=42),\n",
       " Note(inst_family=bass, pitch=35, duration=4, velocity=110),\n",
       " Beat(position=47),\n",
       " Note(inst_family=bass, pitch=37, duration=4, velocity=110),\n",
       " Bar(),\n",
       " Beat(position=5),\n",
       " Note(inst_family=bass, pitch=38, duration=14, velocity=110),\n",
       " Beat(position=22),\n",
       " Note(inst_family=bass, pitch=38, duration=4, velocity=106),\n",
       " Beat(position=27),\n",
       " Note(inst_family=bass, pitch=37, duration=13, velocity=110),\n",
       " Beat(position=43),\n",
       " Note(inst_family=bass, pitch=37, duration=5, velocity=106),\n",
       " Bar(),\n",
       " Beat(position=1),\n",
       " Note(inst_family=bass, pitch=35, duration=10, velocity=114),\n",
       " Beat(position=17),\n",
       " Note(inst_family=bass, pitch=35, duration=4, velocity=114),\n",
       " Beat(position=23),\n",
       " Note(inst_family=bass, pitch=33, duration=4, velocity=114),\n",
       " Beat(position=29),\n",
       " Note(inst_family=bass, pitch=37, duration=5, velocity=106),\n",
       " Beat(position=34),\n",
       " Note(inst_family=bass, pitch=38, duration=3, velocity=90),\n",
       " Beat(position=40),\n",
       " Note(inst_family=bass, pitch=39, duration=4, velocity=94),\n",
       " Beat(position=45),\n",
       " Note(inst_family=bass, pitch=40, duration=11, velocity=110),\n",
       " Bar(),\n",
       " Beat(position=14),\n",
       " Note(inst_family=bass, pitch=40, duration=5, velocity=102),\n",
       " Beat(position=19),\n",
       " Note(inst_family=bass, pitch=38, duration=12, velocity=102),\n",
       " Beat(position=36),\n",
       " Note(inst_family=bass, pitch=38, duration=5, velocity=102),\n",
       " Beat(position=41),\n",
       " Note(inst_family=bass, pitch=37, duration=11, velocity=106),\n",
       " Bar(),\n",
       " Beat(position=10),\n",
       " Note(inst_family=bass, pitch=37, duration=5, velocity=106),\n",
       " Beat(position=15),\n",
       " Note(inst_family=bass, pitch=35, duration=11, velocity=110),\n",
       " Beat(position=32),\n",
       " Note(inst_family=bass, pitch=35, duration=4, velocity=114),\n",
       " Beat(position=37),\n",
       " Note(inst_family=bass, pitch=33, duration=14, velocity=118),\n",
       " Bar(),\n",
       " Beat(position=6),\n",
       " Note(inst_family=bass, pitch=33, duration=4, velocity=102),\n",
       " Beat(position=12),\n",
       " Note(inst_family=bass, pitch=28, duration=13, velocity=110),\n",
       " Beat(position=28),\n",
       " Note(inst_family=bass, pitch=28, duration=5, velocity=110),\n",
       " Beat(position=34),\n",
       " Note(inst_family=bass, pitch=30, duration=14, velocity=114),\n",
       " Bar(),\n",
       " Beat(position=3),\n",
       " Note(inst_family=bass, pitch=25, duration=5, velocity=114),\n",
       " Beat(position=8),\n",
       " Note(inst_family=bass, pitch=37, duration=5, velocity=102),\n",
       " Beat(position=14),\n",
       " Note(inst_family=bass, pitch=33, duration=5, velocity=102),\n",
       " Beat(position=19),\n",
       " Note(inst_family=bass, pitch=35, duration=8, velocity=110),\n",
       " Beat(position=30),\n",
       " Note(inst_family=bass, pitch=33, duration=14, velocity=102),\n",
       " Beat(position=47),\n",
       " Note(inst_family=bass, pitch=33, duration=5, velocity=110),\n",
       " Bar(),\n",
       " Beat(position=4),\n",
       " Note(inst_family=bass, pitch=28, duration=15, velocity=102),\n",
       " Beat(position=21),\n",
       " Note(inst_family=bass, pitch=28, duration=5, velocity=114),\n",
       " Beat(position=27),\n",
       " Note(inst_family=bass, pitch=30, duration=13, velocity=110),\n",
       " Beat(position=43),\n",
       " Note(inst_family=bass, pitch=25, duration=5, velocity=110),\n",
       " Bar(),\n",
       " Beat(position=1),\n",
       " Note(inst_family=bass, pitch=37, duration=5, velocity=98),\n",
       " Beat(position=6),\n",
       " Note(inst_family=bass, pitch=33, duration=4, velocity=110),\n",
       " Beat(position=12),\n",
       " Note(inst_family=bass, pitch=35, duration=4, velocity=110),\n",
       " Beat(position=18),\n",
       " Note(inst_family=bass, pitch=37, duration=4, velocity=110),\n",
       " Beat(position=23),\n",
       " Note(inst_family=bass, pitch=38, duration=14, velocity=110),\n",
       " Beat(position=40),\n",
       " Note(inst_family=bass, pitch=38, duration=4, velocity=106),\n",
       " Beat(position=45),\n",
       " Note(inst_family=bass, pitch=37, duration=13, velocity=110),\n",
       " Bar(),\n",
       " Beat(position=14),\n",
       " Note(inst_family=bass, pitch=37, duration=5, velocity=106),\n",
       " Beat(position=19),\n",
       " Note(inst_family=bass, pitch=35, duration=10, velocity=114),\n",
       " Beat(position=35),\n",
       " Note(inst_family=bass, pitch=35, duration=4, velocity=114),\n",
       " Beat(position=41),\n",
       " Note(inst_family=bass, pitch=33, duration=4, velocity=114),\n",
       " Beat(position=47),\n",
       " Note(inst_family=bass, pitch=37, duration=5, velocity=106),\n",
       " Bar(),\n",
       " Beat(position=4),\n",
       " Note(inst_family=bass, pitch=38, duration=3, velocity=90),\n",
       " Beat(position=10),\n",
       " Note(inst_family=bass, pitch=39, duration=4, velocity=94)]"
      ]
     },
     "execution_count": 13,
     "metadata": {},
     "output_type": "execute_result"
    }
   ],
   "source": [
    "tracks['bass'][:]"
   ]
  },
  {
   "cell_type": "markdown",
   "id": "improved-illustration",
   "metadata": {},
   "source": [
    "## exporting"
   ]
  },
  {
   "cell_type": "markdown",
   "id": "duplicate-girlfriend",
   "metadata": {},
   "source": [
    "### midi"
   ]
  },
  {
   "cell_type": "code",
   "execution_count": 14,
   "id": "reserved-article",
   "metadata": {},
   "outputs": [
    {
     "data": {
      "text/plain": [
       "ticks per beat: 100\n",
       "max tick: 1248\n",
       "tempo changes: 1\n",
       "time sig: 1\n",
       "key sig: 0\n",
       "markers: 0\n",
       "lyrics: False\n",
       "instruments: 4"
      ]
     },
     "execution_count": 14,
     "metadata": {},
     "output_type": "execute_result"
    }
   ],
   "source": [
    "midi = seq.to_midi('test.mid')\n",
    "midi"
   ]
  },
  {
   "cell_type": "markdown",
   "id": "solid-borough",
   "metadata": {},
   "source": [
    "### remi"
   ]
  },
  {
   "cell_type": "code",
   "execution_count": 15,
   "id": "broad-transmission",
   "metadata": {},
   "outputs": [
    {
     "data": {
      "text/plain": [
       "['Bar',\n",
       " 'BeatPosition_1',\n",
       " 'BeatTempo_175',\n",
       " 'BeatPosition_6',\n",
       " 'NoteInstFamily_guitar',\n",
       " 'NotePitch_66',\n",
       " 'NoteDuration_4',\n",
       " 'NoteVelocity_82',\n",
       " 'NoteInstFamily_guitar',\n",
       " 'NotePitch_54']"
      ]
     },
     "execution_count": 15,
     "metadata": {},
     "output_type": "execute_result"
    }
   ],
   "source": [
    "remi = seq.to_remi(ret='token')\n",
    "remi[:10]"
   ]
  },
  {
   "cell_type": "code",
   "execution_count": 16,
   "id": "radio-skating",
   "metadata": {},
   "outputs": [
    {
     "data": {
      "text/plain": [
       "[Event(type=Bar),\n",
       " Event(type=BeatPosition, value=1),\n",
       " Event(type=BeatTempo, value=175),\n",
       " Event(type=BeatPosition, value=6),\n",
       " Event(type=NoteInstFamily, value=guitar),\n",
       " Event(type=NotePitch, value=66),\n",
       " Event(type=NoteDuration, value=4),\n",
       " Event(type=NoteVelocity, value=82),\n",
       " Event(type=NoteInstFamily, value=guitar),\n",
       " Event(type=NotePitch, value=54)]"
      ]
     },
     "execution_count": 16,
     "metadata": {},
     "output_type": "execute_result"
    }
   ],
   "source": [
    "seq.to_remi(ret='event')[:10]"
   ]
  },
  {
   "cell_type": "code",
   "execution_count": 17,
   "id": "handmade-appendix",
   "metadata": {},
   "outputs": [
    {
     "data": {
      "text/plain": [
       "[0, 2, 60, 7, 205, 285, 350, 413, 205, 273]"
      ]
     },
     "execution_count": 17,
     "metadata": {},
     "output_type": "execute_result"
    }
   ],
   "source": [
    "seq.to_remi(ret='index')[:10]"
   ]
  },
  {
   "cell_type": "markdown",
   "id": "finished-weather",
   "metadata": {},
   "source": [
    "### compound word"
   ]
  },
  {
   "cell_type": "code",
   "execution_count": 18,
   "id": "rolled-horse",
   "metadata": {},
   "outputs": [
    {
     "data": {
      "text/plain": [
       "((829, 8), 829)"
      ]
     },
     "execution_count": 18,
     "metadata": {},
     "output_type": "execute_result"
    }
   ],
   "source": [
    "cp = seq.to_cp()\n",
    "cp.shape, len(seq)"
   ]
  },
  {
   "cell_type": "code",
   "execution_count": 19,
   "id": "minor-whole",
   "metadata": {},
   "outputs": [
    {
     "data": {
      "text/plain": [
       "array([[ 0,  0,  0,  0,  0,  0,  0,  0],\n",
       "       [ 0,  4,  0,  0,  0,  0,  0,  0],\n",
       "       [ 1,  0,  0,  0,  3, 62,  9, 20],\n",
       "       [ 1,  0,  0,  0,  4, 38,  2, 20],\n",
       "       [ 0,  5,  0,  0,  0,  0,  0,  0],\n",
       "       [ 1,  0,  0,  0,  3, 66,  4, 18],\n",
       "       [ 0, 10,  0,  0,  0,  0,  0,  0],\n",
       "       [ 1,  0,  0,  0,  4, 39,  3, 21]])"
      ]
     },
     "execution_count": 19,
     "metadata": {},
     "output_type": "execute_result"
    }
   ],
   "source": [
    "bars[-1].to_cp()"
   ]
  },
  {
   "cell_type": "markdown",
   "id": "architectural-version",
   "metadata": {},
   "source": [
    "## Importing"
   ]
  },
  {
   "cell_type": "markdown",
   "id": "ethical-restoration",
   "metadata": {},
   "source": [
    "### from cp"
   ]
  },
  {
   "cell_type": "code",
   "execution_count": 20,
   "id": "younger-details",
   "metadata": {},
   "outputs": [
    {
     "data": {
      "text/plain": [
       "(True, True)"
      ]
     },
     "execution_count": 20,
     "metadata": {},
     "output_type": "execute_result"
    }
   ],
   "source": [
    "seq_t = MusicRepr.from_cp(cp)\n",
    "seq_t.events == seq.events, seq == seq_t"
   ]
  },
  {
   "cell_type": "markdown",
   "id": "damaged-thing",
   "metadata": {},
   "source": [
    "### from remi"
   ]
  },
  {
   "cell_type": "code",
   "execution_count": 21,
   "id": "underlying-retailer",
   "metadata": {},
   "outputs": [
    {
     "data": {
      "text/plain": [
       "(True, True)"
      ]
     },
     "execution_count": 21,
     "metadata": {},
     "output_type": "execute_result"
    }
   ],
   "source": [
    "seq_t = MusicRepr.from_string(' '.join(remi))\n",
    "seq_t.events == seq.events, seq == seq_t"
   ]
  },
  {
   "cell_type": "markdown",
   "id": "rough-marina",
   "metadata": {},
   "source": [
    "## merging tracks"
   ]
  },
  {
   "cell_type": "code",
   "execution_count": 22,
   "id": "sonic-season",
   "metadata": {},
   "outputs": [
    {
     "data": {
      "text/plain": [
       "True"
      ]
     },
     "execution_count": 22,
     "metadata": {},
     "output_type": "execute_result"
    }
   ],
   "source": [
    "seq_t = MusicRepr.merge_tracks(tracks)\n",
    "seq == seq_t"
   ]
  }
 ],
 "metadata": {
  "kernelspec": {
   "display_name": "Python 3",
   "language": "python",
   "name": "python3"
  },
  "language_info": {
   "codemirror_mode": {
    "name": "ipython",
    "version": 3
   },
   "file_extension": ".py",
   "mimetype": "text/x-python",
   "name": "python",
   "nbconvert_exporter": "python",
   "pygments_lexer": "ipython3",
   "version": "3.7.4"
  }
 },
 "nbformat": 4,
 "nbformat_minor": 5
}
