{
 "cells": [
  {
   "cell_type": "code",
   "execution_count": 1,
   "id": "processed-fourth",
   "metadata": {},
   "outputs": [],
   "source": [
    "from miditoolkit.midi.parser import MidiFile\n",
    "\n",
    "from deepnote import MusicRepr, utils"
   ]
  },
  {
   "cell_type": "code",
   "execution_count": 2,
   "id": "wrapped-cargo",
   "metadata": {},
   "outputs": [
    {
     "data": {
      "text/plain": [
       "ticks per beat: 100\n",
       "max tick: 7027\n",
       "tempo changes: 2\n",
       "time sig: 1\n",
       "key sig: 0\n",
       "markers: 0\n",
       "lyrics: False\n",
       "instruments: 4"
      ]
     },
     "execution_count": 2,
     "metadata": {},
     "output_type": "execute_result"
    }
   ],
   "source": [
    "midi = MidiFile('test.mid')\n",
    "midi"
   ]
  },
  {
   "cell_type": "code",
   "execution_count": 10,
   "id": "opening-drive",
   "metadata": {},
   "outputs": [
    {
     "data": {
      "text/plain": [
       "[Bar(),\n",
       " Beat(position=1, tempo=123),\n",
       " Beat(position=2, tempo=169),\n",
       " Beat(position=3),\n",
       " Note(inst_family=guitar, pitch=66, duration=1, velocity=83),\n",
       " Note(inst_family=guitar, pitch=54, duration=3, velocity=53),\n",
       " Beat(position=5),\n",
       " Note(inst_family=guitar, pitch=66, duration=1, velocity=57),\n",
       " Note(inst_family=bass, pitch=35, duration=1, velocity=105),\n",
       " Beat(position=7),\n",
       " Note(inst_family=guitar, pitch=59, duration=3, velocity=61),\n",
       " Note(inst_family=guitar, pitch=62, duration=3, velocity=61),\n",
       " Note(inst_family=guitar, pitch=66, duration=3, velocity=53),\n",
       " Note(inst_family=guitar, pitch=54, duration=7, velocity=57),\n",
       " Note(inst_family=bass, pitch=30, duration=3, velocity=113),\n",
       " Beat(position=10),\n",
       " Note(inst_family=guitar, pitch=62, duration=1, velocity=66),\n",
       " Note(inst_family=guitar, pitch=66, duration=1, velocity=74),\n",
       " Note(inst_family=guitar, pitch=59, duration=3, velocity=66),\n",
       " Beat(position=12)]"
      ]
     },
     "execution_count": 10,
     "metadata": {},
     "output_type": "execute_result"
    }
   ],
   "source": [
    "seq = MusicRepr.from_midi(midi, unit=4)\n",
    "seq[:20]"
   ]
  },
  {
   "cell_type": "markdown",
   "id": "suspended-tournament",
   "metadata": {},
   "source": [
    "## extracting chords"
   ]
  },
  {
   "cell_type": "code",
   "execution_count": 11,
   "id": "necessary-income",
   "metadata": {},
   "outputs": [
    {
     "data": {
      "text/plain": [
       "ticks per beat: 100\n",
       "max tick: 7027\n",
       "tempo changes: 2\n",
       "time sig: 1\n",
       "key sig: 0\n",
       "markers: 29\n",
       "lyrics: False\n",
       "instruments: 4"
      ]
     },
     "execution_count": 11,
     "metadata": {},
     "output_type": "execute_result"
    }
   ],
   "source": [
    "midi_analyzed = utils.analyze_midi(midi)\n",
    "midi_analyzed"
   ]
  },
  {
   "cell_type": "code",
   "execution_count": 12,
   "id": "bacterial-physiology",
   "metadata": {},
   "outputs": [
    {
     "data": {
      "text/plain": [
       "[Marker(text=\"Chord_B_m\", time=0),\n",
       " Marker(text=\"Chord_B_m7\", time=400),\n",
       " Marker(text=\"Chord_F#_7\", time=600),\n",
       " Marker(text=\"Chord_F#_M\", time=800),\n",
       " Marker(text=\"Chord_F#_7\", time=1200),\n",
       " Marker(text=\"Chord_E_M\", time=1400),\n",
       " Marker(text=\"Chord_A_M7\", time=2000),\n",
       " Marker(text=\"Chord_A_M\", time=2200),\n",
       " Marker(text=\"Chord_F#_m7\", time=2400),\n",
       " Marker(text=\"Chord_F#_m\", time=2600)]"
      ]
     },
     "execution_count": 12,
     "metadata": {},
     "output_type": "execute_result"
    }
   ],
   "source": [
    "midi_analyzed.markers[:10]"
   ]
  },
  {
   "cell_type": "code",
   "execution_count": 16,
   "id": "fluid-newsletter",
   "metadata": {},
   "outputs": [
    {
     "data": {
      "text/plain": [
       "[Bar(),\n",
       " Beat(position=1, tempo=123, chord=B_m),\n",
       " Beat(position=2, tempo=169),\n",
       " Beat(position=3),\n",
       " Note(inst_family=guitar, pitch=66, duration=1, velocity=83),\n",
       " Note(inst_family=guitar, pitch=54, duration=3, velocity=53),\n",
       " Beat(position=5),\n",
       " Note(inst_family=guitar, pitch=66, duration=1, velocity=57),\n",
       " Note(inst_family=bass, pitch=35, duration=1, velocity=105),\n",
       " Beat(position=7)]"
      ]
     },
     "execution_count": 16,
     "metadata": {},
     "output_type": "execute_result"
    }
   ],
   "source": [
    "seq_t = MusicRepr.from_midi(midi_analyzed, unit=4)\n",
    "seq_t[:10]"
   ]
  },
  {
   "cell_type": "markdown",
   "id": "overall-trainer",
   "metadata": {},
   "source": [
    "## quantizing times"
   ]
  },
  {
   "cell_type": "code",
   "execution_count": 17,
   "id": "secondary-laugh",
   "metadata": {},
   "outputs": [
    {
     "data": {
      "text/plain": [
       "ticks per beat: 100\n",
       "max tick: 6975\n",
       "tempo changes: 2\n",
       "time sig: 1\n",
       "key sig: 0\n",
       "markers: 29\n",
       "lyrics: False\n",
       "instruments: 4"
      ]
     },
     "execution_count": 17,
     "metadata": {},
     "output_type": "execute_result"
    }
   ],
   "source": [
    "midi_quant = utils.quantize_midi(midi_analyzed, unit=4)\n",
    "midi_quant"
   ]
  },
  {
   "cell_type": "code",
   "execution_count": 18,
   "id": "mediterranean-album",
   "metadata": {},
   "outputs": [
    {
     "data": {
      "text/plain": [
       "[Bar(),\n",
       " Beat(position=1, tempo=169, chord=B_m),\n",
       " Note(inst_family=guitar, pitch=54, duration=3, velocity=53),\n",
       " Note(inst_family=guitar, pitch=66, duration=1, velocity=83),\n",
       " Beat(position=3),\n",
       " Note(inst_family=guitar, pitch=66, duration=1, velocity=57),\n",
       " Note(inst_family=bass, pitch=35, duration=1, velocity=105),\n",
       " Beat(position=5),\n",
       " Note(inst_family=guitar, pitch=54, duration=7, velocity=57),\n",
       " Note(inst_family=guitar, pitch=59, duration=3, velocity=61),\n",
       " Note(inst_family=guitar, pitch=62, duration=3, velocity=61),\n",
       " Note(inst_family=guitar, pitch=66, duration=3, velocity=53),\n",
       " Note(inst_family=bass, pitch=30, duration=3, velocity=113),\n",
       " Beat(position=8),\n",
       " Note(inst_family=guitar, pitch=59, duration=3, velocity=66),\n",
       " Note(inst_family=guitar, pitch=62, duration=1, velocity=66),\n",
       " Note(inst_family=guitar, pitch=66, duration=1, velocity=74),\n",
       " Beat(position=10),\n",
       " Note(inst_family=guitar, pitch=62, duration=5, velocity=44),\n",
       " Note(inst_family=guitar, pitch=66, duration=3, velocity=57)]"
      ]
     },
     "execution_count": 18,
     "metadata": {},
     "output_type": "execute_result"
    }
   ],
   "source": [
    "seq_t = MusicRepr.from_midi(midi_quant, unit=4)\n",
    "seq_t[:20]"
   ]
  },
  {
   "cell_type": "code",
   "execution_count": null,
   "id": "measured-simulation",
   "metadata": {},
   "outputs": [],
   "source": []
  }
 ],
 "metadata": {
  "kernelspec": {
   "display_name": "Python 3",
   "language": "python",
   "name": "python3"
  },
  "language_info": {
   "codemirror_mode": {
    "name": "ipython",
    "version": 3
   },
   "file_extension": ".py",
   "mimetype": "text/x-python",
   "name": "python",
   "nbconvert_exporter": "python",
   "pygments_lexer": "ipython3",
   "version": "3.7.4"
  }
 },
 "nbformat": 4,
 "nbformat_minor": 5
}
