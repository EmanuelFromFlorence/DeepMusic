{
 "cells": [
  {
   "cell_type": "code",
   "execution_count": 2,
   "id": "processed-fourth",
   "metadata": {},
   "outputs": [],
   "source": [
    "from miditoolkit.midi.parser import MidiFile\n",
    "\n",
    "from deepnote import MusicRepr, utils"
   ]
  },
  {
   "cell_type": "code",
   "execution_count": 3,
   "id": "wrapped-cargo",
   "metadata": {},
   "outputs": [
    {
     "data": {
      "text/plain": [
       "ticks per beat: 100\n",
       "max tick: 1322\n",
       "tempo changes: 2\n",
       "time sig: 1\n",
       "key sig: 0\n",
       "markers: 0\n",
       "lyrics: False\n",
       "instruments: 4"
      ]
     },
     "execution_count": 3,
     "metadata": {},
     "output_type": "execute_result"
    }
   ],
   "source": [
    "midi = MidiFile('test.mid')\n",
    "midi"
   ]
  },
  {
   "cell_type": "code",
   "execution_count": 4,
   "id": "opening-drive",
   "metadata": {},
   "outputs": [
    {
     "data": {
      "text/plain": [
       "[Bar(),\n",
       " Beat(position=1, tempo=122),\n",
       " Beat(position=2, tempo=175),\n",
       " Beat(position=7),\n",
       " Note(inst_family=guitar, pitch=66, duration=4, velocity=82),\n",
       " Note(inst_family=guitar, pitch=54, duration=10, velocity=53),\n",
       " Beat(position=9),\n",
       " Note(inst_family=guitar, pitch=66, duration=2, velocity=74),\n",
       " Note(inst_family=guitar, pitch=54, duration=8, velocity=65),\n",
       " Note(inst_family=guitar, pitch=59, duration=10, velocity=65),\n",
       " Note(inst_family=guitar, pitch=62, duration=10, velocity=65),\n",
       " Beat(position=12),\n",
       " Note(inst_family=guitar, pitch=66, duration=1, velocity=57),\n",
       " Note(inst_family=bass, pitch=35, duration=2, velocity=106),\n",
       " Beat(position=14),\n",
       " Note(inst_family=guitar, pitch=66, duration=3, velocity=57),\n",
       " Note(inst_family=bass, pitch=35, duration=1, velocity=90),\n",
       " Beat(position=17),\n",
       " Note(inst_family=guitar, pitch=59, duration=2, velocity=61),\n",
       " Note(inst_family=guitar, pitch=62, duration=2, velocity=61)]"
      ]
     },
     "execution_count": 4,
     "metadata": {},
     "output_type": "execute_result"
    }
   ],
   "source": [
    "seq = MusicRepr.from_midi(midi)\n",
    "seq[:20]"
   ]
  },
  {
   "cell_type": "markdown",
   "id": "suspended-tournament",
   "metadata": {},
   "source": [
    "## extracting chords"
   ]
  },
  {
   "cell_type": "code",
   "execution_count": 5,
   "id": "necessary-income",
   "metadata": {},
   "outputs": [
    {
     "data": {
      "text/plain": [
       "ticks per beat: 100\n",
       "max tick: 1322\n",
       "tempo changes: 2\n",
       "time sig: 1\n",
       "key sig: 0\n",
       "markers: 6\n",
       "lyrics: False\n",
       "instruments: 4"
      ]
     },
     "execution_count": 5,
     "metadata": {},
     "output_type": "execute_result"
    }
   ],
   "source": [
    "midi_analyzed = utils.analyze_midi(midi)\n",
    "midi_analyzed"
   ]
  },
  {
   "cell_type": "code",
   "execution_count": 6,
   "id": "bacterial-physiology",
   "metadata": {},
   "outputs": [
    {
     "data": {
      "text/plain": [
       "[Marker(text=\"Chord_B_m7\", time=0),\n",
       " Marker(text=\"Chord_E_7\", time=200),\n",
       " Marker(text=\"Chord_F#_m7\", time=400),\n",
       " Marker(text=\"Chord_A_M7\", time=600),\n",
       " Marker(text=\"Chord_D_M7\", time=800),\n",
       " Marker(text=\"Chord_C#_m\", time=1200)]"
      ]
     },
     "execution_count": 6,
     "metadata": {},
     "output_type": "execute_result"
    }
   ],
   "source": [
    "midi_analyzed.markers"
   ]
  },
  {
   "cell_type": "code",
   "execution_count": 7,
   "id": "fluid-newsletter",
   "metadata": {},
   "outputs": [
    {
     "data": {
      "text/plain": [
       "[Bar(),\n",
       " Beat(position=1, tempo=122, chord=B_m7),\n",
       " Beat(position=2, tempo=175),\n",
       " Beat(position=7),\n",
       " Note(inst_family=guitar, pitch=66, duration=4, velocity=82),\n",
       " Note(inst_family=guitar, pitch=54, duration=10, velocity=53),\n",
       " Beat(position=9),\n",
       " Note(inst_family=guitar, pitch=66, duration=2, velocity=74),\n",
       " Note(inst_family=guitar, pitch=54, duration=8, velocity=65),\n",
       " Note(inst_family=guitar, pitch=59, duration=10, velocity=65),\n",
       " Note(inst_family=guitar, pitch=62, duration=10, velocity=65),\n",
       " Beat(position=12),\n",
       " Note(inst_family=guitar, pitch=66, duration=1, velocity=57),\n",
       " Note(inst_family=bass, pitch=35, duration=2, velocity=106),\n",
       " Beat(position=14),\n",
       " Note(inst_family=guitar, pitch=66, duration=3, velocity=57),\n",
       " Note(inst_family=bass, pitch=35, duration=1, velocity=90),\n",
       " Beat(position=17),\n",
       " Note(inst_family=guitar, pitch=59, duration=2, velocity=61),\n",
       " Note(inst_family=guitar, pitch=62, duration=2, velocity=61)]"
      ]
     },
     "execution_count": 7,
     "metadata": {},
     "output_type": "execute_result"
    }
   ],
   "source": [
    "seq_t = MusicRepr.from_midi(midi_analyzed)\n",
    "seq_t[:20]"
   ]
  },
  {
   "cell_type": "markdown",
   "id": "overall-trainer",
   "metadata": {},
   "source": [
    "## quantizing times"
   ]
  },
  {
   "cell_type": "code",
   "execution_count": 8,
   "id": "secondary-laugh",
   "metadata": {},
   "outputs": [
    {
     "data": {
      "text/plain": [
       "ticks per beat: 100\n",
       "max tick: 1272\n",
       "tempo changes: 2\n",
       "time sig: 1\n",
       "key sig: 0\n",
       "markers: 6\n",
       "lyrics: False\n",
       "instruments: 4"
      ]
     },
     "execution_count": 8,
     "metadata": {},
     "output_type": "execute_result"
    }
   ],
   "source": [
    "midi_quant = utils.quantize_midi(midi_analyzed, unit=12)\n",
    "midi_quant"
   ]
  },
  {
   "cell_type": "code",
   "execution_count": 9,
   "id": "mediterranean-album",
   "metadata": {},
   "outputs": [
    {
     "data": {
      "text/plain": [
       "[Bar(),\n",
       " Beat(position=1, tempo=175, chord=B_m7),\n",
       " Note(inst_family=guitar, pitch=54, duration=10, velocity=53),\n",
       " Note(inst_family=guitar, pitch=66, duration=4, velocity=82),\n",
       " Beat(position=3),\n",
       " Note(inst_family=guitar, pitch=54, duration=8, velocity=65),\n",
       " Note(inst_family=guitar, pitch=59, duration=10, velocity=65),\n",
       " Note(inst_family=guitar, pitch=62, duration=10, velocity=65),\n",
       " Note(inst_family=guitar, pitch=66, duration=2, velocity=74),\n",
       " Beat(position=6),\n",
       " Note(inst_family=guitar, pitch=66, duration=1, velocity=57),\n",
       " Note(inst_family=bass, pitch=35, duration=2, velocity=106),\n",
       " Beat(position=8),\n",
       " Note(inst_family=guitar, pitch=66, duration=3, velocity=57),\n",
       " Note(inst_family=bass, pitch=35, duration=1, velocity=90),\n",
       " Beat(position=11),\n",
       " Note(inst_family=guitar, pitch=54, duration=3, velocity=57),\n",
       " Note(inst_family=guitar, pitch=59, duration=2, velocity=61),\n",
       " Note(inst_family=guitar, pitch=61, duration=6, velocity=53),\n",
       " Note(inst_family=guitar, pitch=62, duration=2, velocity=61)]"
      ]
     },
     "execution_count": 9,
     "metadata": {},
     "output_type": "execute_result"
    }
   ],
   "source": [
    "seq_t = MusicRepr.from_midi(midi_quant)\n",
    "seq_t[:20]"
   ]
  },
  {
   "cell_type": "code",
   "execution_count": null,
   "id": "measured-simulation",
   "metadata": {},
   "outputs": [],
   "source": []
  }
 ],
 "metadata": {
  "kernelspec": {
   "display_name": "Python 3",
   "language": "python",
   "name": "python3"
  },
  "language_info": {
   "codemirror_mode": {
    "name": "ipython",
    "version": 3
   },
   "file_extension": ".py",
   "mimetype": "text/x-python",
   "name": "python",
   "nbconvert_exporter": "python",
   "pygments_lexer": "ipython3",
   "version": "3.7.4"
  }
 },
 "nbformat": 4,
 "nbformat_minor": 5
}
